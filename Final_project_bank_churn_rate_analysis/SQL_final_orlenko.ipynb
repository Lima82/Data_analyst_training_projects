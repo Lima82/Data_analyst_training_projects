{
 "cells": [
  {
   "cell_type": "markdown",
   "metadata": {},
   "source": [
    "<a id='toc'></a>\n",
    "# Анализ сервиса для чтения книг по подписке"
   ]
  },
  {
   "cell_type": "markdown",
   "metadata": {},
   "source": [
    "**Цель исследования**\n",
    "\n",
    "Коронавирус застал мир врасплох, изменив привычный порядок вещей. В свободное время жители городов больше не \n",
    "выходят на улицу, не посещают кафе и торговые центры. Зато стало больше времени для книг. \n",
    "\n",
    "Это заметили стартаперы — и бросились создавать приложения для тех, кто любит читать.\n",
    "\n",
    "Наша компания решила быть на волне и купила крупный сервис для чтения книг по подписке. \n",
    "\n",
    "Необходимо проанализировать базу данных сервиса и сформулировать ценностное предложение для нового продукта.\n",
    "\n",
    "**Описание данных**\n",
    "\n",
    "Мы будем работать с данными из следующих таблиц:\n",
    "- таблица **books** cодержит данные о книгах:\n",
    "  - book_id - идентификатор книги;\n",
    "  - author_id - идентификатор автора; \n",
    "  - title - название книги;\n",
    "  - num_pages - количество страниц;\n",
    "  - publication_date - дата публикации книги;\n",
    "  - publisher_id - идентификатор издателя.\n",
    "  \n",
    "- таблица **authors** содержит данные об авторах:\n",
    "  - author_id - идентификатор автора;\n",
    "  - author - имя автора.\n",
    "  \n",
    "- таблица **publishers** содержит данные об издательствах:\n",
    "  - publisher_id - идентификатор издательства;\n",
    "  - publisher - название издательства.\n",
    "\n",
    "- таблица **ratings** содержит данные о пользовательских оценках книг:\n",
    "  - rating_id - идентификатор оценки;\n",
    "  - book_id - идентификатор книги;\n",
    "  - username - имя пользователя, оставившего оценку;\n",
    "  - rating - оценка книги.\n",
    "\n",
    "- таблица **reviews** содержит данные о пользовательских оценках книг:\n",
    "  - review_id - идентификатор обзора;\n",
    "  - book_id - идентификатор книги;\n",
    "  - username - имя пользователя, написавшего обзор;\n",
    "  - text - текст обзора.\n",
    "  \n",
    "База данных содержит информацию о книгах, издательствах, авторах, а также пользовательские обзоры книг. \n",
    "\n",
    "О качестве данных ничего не известно. Поэтому перед исследованием данных понадобится их обзор.\n",
    "\n",
    "**Ход исследования**\n",
    "\n",
    "- Загрузка и базовый анализ данных:\n",
    "  - импорт библиотек;\n",
    "  - исследование таблиц.\n",
    "\n",
    "- Предобработка данных:\n",
    "  - проверка данных на пропуски;\n",
    "  - проверка данных на дубликаты;\n",
    "  - изучение уникальных значений;\n",
    "  - изменений типов данных в столбцах, при необходимости.\n",
    "\n",
    "- Исследовательский анализ данных с помощью SQL-запросов:\n",
    "  - посчитаем, сколько книг вышло после 1 января 2000 года;\n",
    "  - для каждой книги посчитаем количество обзоров и среднюю оценку;\n",
    "  - определим издательство, которое выпустило наибольшее число книг толще 50 страниц (так мы исключим из анализа брошюры);\n",
    "  - определим автора с самой высокой средней оценкой книг (учтем только книги с 50 и более оценками);\n",
    "  - посчитаем среднее количество обзоров от пользователей, которые поставили больше 48 оценок.\n",
    "  \n",
    "- Общий вывод и рекомендации.\n",
    "\n",
    "Далее проведем необходимые вычисления, на основании которых проанализируем данные и, таким образом, исследование пройдёт в 4 этапа:\n",
    "\n",
    "- [Загрузка и базовый анализ данных.](#1)\n",
    "- [Предобработка данных.](#2)\n",
    "- [Исследовательский анализ данных.](#3)\n",
    "- [Общий вывод и рекомендации.](#4) "
   ]
  },
  {
   "cell_type": "markdown",
   "metadata": {},
   "source": [
    "<a id=\"1\"></a>\n",
    "### Загрузка и базовый анализ данных"
   ]
  },
  {
   "cell_type": "code",
   "execution_count": 1,
   "metadata": {},
   "outputs": [],
   "source": [
    "# Импортируем библиотеки\n",
    "import pandas as pd\n",
    "import sqlalchemy as sa\n",
    "import numpy as np\n",
    "import matplotlib.pyplot as plt\n",
    "import matplotlib.patches as patches\n",
    "%matplotlib inline\n",
    "import seaborn as sns\n",
    "# Устанавливаем параметры\n",
    "db_config = {\n",
    "            'user': , # добавить имя пользователя\n",
    "            'pwd': , # добавить пароль\n",
    "            'host': , # добавить хост\n",
    "            'port': 6432, # порт подключения\n",
    "            'db':  # добавить название базы данных\n",
    "            }\n",
    "connection_string = 'postgresql://{user}:{pwd}@{host}:{port}/{db}'.format(**db_config)\n",
    "# Сохраняем коннектор\n",
    "engine = sa.create_engine(connection_string, connect_args={'sslmode':'require'})\n",
    "# Чтобы выполнить SQL-запрос, пишем функцию с использованием Pandas\n",
    "def get_sql_data(query:str, engine:sa.engine.base.Engine=engine) -> pd.DataFrame:\n",
    "    '''Открываем соединение, получаем данные из sql, закрываем соединение'''\n",
    "    with engine.connect() as con:\n",
    "        return pd.read_sql(sql=sa.text(query), con = con)"
   ]
  },
  {
   "cell_type": "code",
   "execution_count": 2,
   "metadata": {},
   "outputs": [
    {
     "data": {
      "text/html": [
       "<div>\n",
       "<style scoped>\n",
       "    .dataframe tbody tr th:only-of-type {\n",
       "        vertical-align: middle;\n",
       "    }\n",
       "\n",
       "    .dataframe tbody tr th {\n",
       "        vertical-align: top;\n",
       "    }\n",
       "\n",
       "    .dataframe thead th {\n",
       "        text-align: right;\n",
       "    }\n",
       "</style>\n",
       "<table border=\"1\" class=\"dataframe\">\n",
       "  <thead>\n",
       "    <tr style=\"text-align: right;\">\n",
       "      <th></th>\n",
       "      <th>book_id</th>\n",
       "      <th>author_id</th>\n",
       "      <th>title</th>\n",
       "      <th>num_pages</th>\n",
       "      <th>publication_date</th>\n",
       "      <th>publisher_id</th>\n",
       "      <th>books_num_rows</th>\n",
       "    </tr>\n",
       "  </thead>\n",
       "  <tbody>\n",
       "    <tr>\n",
       "      <th>0</th>\n",
       "      <td>1</td>\n",
       "      <td>546</td>\n",
       "      <td>'Salem's Lot</td>\n",
       "      <td>594</td>\n",
       "      <td>2005-11-01</td>\n",
       "      <td>93</td>\n",
       "      <td>1000</td>\n",
       "    </tr>\n",
       "    <tr>\n",
       "      <th>1</th>\n",
       "      <td>2</td>\n",
       "      <td>465</td>\n",
       "      <td>1 000 Places to See Before You Die</td>\n",
       "      <td>992</td>\n",
       "      <td>2003-05-22</td>\n",
       "      <td>336</td>\n",
       "      <td>1000</td>\n",
       "    </tr>\n",
       "    <tr>\n",
       "      <th>2</th>\n",
       "      <td>3</td>\n",
       "      <td>407</td>\n",
       "      <td>13 Little Blue Envelopes (Little Blue Envelope...</td>\n",
       "      <td>322</td>\n",
       "      <td>2010-12-21</td>\n",
       "      <td>135</td>\n",
       "      <td>1000</td>\n",
       "    </tr>\n",
       "    <tr>\n",
       "      <th>3</th>\n",
       "      <td>4</td>\n",
       "      <td>82</td>\n",
       "      <td>1491: New Revelations of the Americas Before C...</td>\n",
       "      <td>541</td>\n",
       "      <td>2006-10-10</td>\n",
       "      <td>309</td>\n",
       "      <td>1000</td>\n",
       "    </tr>\n",
       "    <tr>\n",
       "      <th>4</th>\n",
       "      <td>5</td>\n",
       "      <td>125</td>\n",
       "      <td>1776</td>\n",
       "      <td>386</td>\n",
       "      <td>2006-07-04</td>\n",
       "      <td>268</td>\n",
       "      <td>1000</td>\n",
       "    </tr>\n",
       "  </tbody>\n",
       "</table>\n",
       "</div>"
      ],
      "text/plain": [
       "   book_id  author_id                                              title  \\\n",
       "0        1        546                                       'Salem's Lot   \n",
       "1        2        465                 1 000 Places to See Before You Die   \n",
       "2        3        407  13 Little Blue Envelopes (Little Blue Envelope...   \n",
       "3        4         82  1491: New Revelations of the Americas Before C...   \n",
       "4        5        125                                               1776   \n",
       "\n",
       "   num_pages publication_date  publisher_id  books_num_rows  \n",
       "0        594       2005-11-01            93            1000  \n",
       "1        992       2003-05-22           336            1000  \n",
       "2        322       2010-12-21           135            1000  \n",
       "3        541       2006-10-10           309            1000  \n",
       "4        386       2006-07-04           268            1000  "
      ]
     },
     "execution_count": 2,
     "metadata": {},
     "output_type": "execute_result"
    }
   ],
   "source": [
    "# Формируем запрос к таблице books, выводим первые 5 строк, считаем сколько строк в таблице\n",
    "query = '''\n",
    "SELECT *, \n",
    "       COUNT(*) OVER() books_num_rows\n",
    "FROM books\n",
    "LIMIT 5;\n",
    "'''\n",
    "get_sql_data(query)"
   ]
  },
  {
   "cell_type": "markdown",
   "metadata": {},
   "source": [
    "В таблице books 1000 строк."
   ]
  },
  {
   "cell_type": "code",
   "execution_count": 3,
   "metadata": {},
   "outputs": [],
   "source": [
    "# Формируем запрос к таблице books и сохраняем данные в датасет books для дальнейшего исследования\n",
    "query = '''\n",
    "SELECT * \n",
    "FROM books;\n",
    "'''\n",
    "books = get_sql_data(query)"
   ]
  },
  {
   "cell_type": "code",
   "execution_count": 4,
   "metadata": {},
   "outputs": [
    {
     "name": "stdout",
     "output_type": "stream",
     "text": [
      "<class 'pandas.core.frame.DataFrame'>\n",
      "RangeIndex: 1000 entries, 0 to 999\n",
      "Data columns (total 6 columns):\n",
      " #   Column            Non-Null Count  Dtype \n",
      "---  ------            --------------  ----- \n",
      " 0   book_id           1000 non-null   int64 \n",
      " 1   author_id         1000 non-null   int64 \n",
      " 2   title             1000 non-null   object\n",
      " 3   num_pages         1000 non-null   int64 \n",
      " 4   publication_date  1000 non-null   object\n",
      " 5   publisher_id      1000 non-null   int64 \n",
      "dtypes: int64(4), object(2)\n",
      "memory usage: 47.0+ KB\n"
     ]
    }
   ],
   "source": [
    "# Выведем основную информацию о датасете books\n",
    "books.info()"
   ]
  },
  {
   "cell_type": "markdown",
   "metadata": {},
   "source": [
    "В датасете books 6 столбцов, 1000 строк.\n",
    "\n",
    "Согласно документации к данным:\n",
    "- book_id - идентификатор книги;\n",
    "- author_id — идентификатор автора;\n",
    "- title — название книги;\n",
    "- num_pages — количество страниц;\n",
    "- publication_date — дата публикации книги;\n",
    "- publisher_id - идентификатор издателя.\n",
    "\n",
    "В идеале надо бы поменять тип данных в столбце publication_date на datetime."
   ]
  },
  {
   "cell_type": "code",
   "execution_count": 5,
   "metadata": {},
   "outputs": [
    {
     "data": {
      "text/plain": [
       "count    1000.00000\n",
       "mean      389.11100\n",
       "std       229.39014\n",
       "min        14.00000\n",
       "25%       249.00000\n",
       "50%       352.00000\n",
       "75%       453.00000\n",
       "max      2690.00000\n",
       "Name: num_pages, dtype: float64"
      ]
     },
     "metadata": {},
     "output_type": "display_data"
    }
   ],
   "source": [
    "# Выводим статистическое описание данных по столбцу num_pages из books\n",
    "display(books['num_pages'].describe())"
   ]
  },
  {
   "cell_type": "markdown",
   "metadata": {},
   "source": [
    "Минимальное количество страниц - 14, максимальное - 2690, стандарное отклонение существенно отличается от среднего, очевидно, что есть аномалии."
   ]
  },
  {
   "cell_type": "code",
   "execution_count": 6,
   "metadata": {},
   "outputs": [
    {
     "data": {
      "image/png": "[encoded data removed]",
      "text/plain": [
       "<Figure size 1000x500 with 2 Axes>"
      ]
     },
     "metadata": {},
     "output_type": "display_data"
    }
   ],
   "source": [
    "# Построим гистограммы для выбранных столбцов датасета books\n",
    "fig, axes = plt.subplots(nrows=1, ncols=2, figsize=(10, 5))\n",
    "\n",
    "selected_columns = ['num_pages', 'publication_date']\n",
    "\n",
    "# Визуализируем данные по выбранным столбцам\n",
    "for i, column_name in enumerate(selected_columns):\n",
    "    books[column_name].hist(bins=50, ax=axes[i])\n",
    "    axes[i].set_title(f'Распределение по столбцу \"{column_name}\"', fontsize=14)\n",
    "    axes[i].set_xlabel(column_name, fontsize=12)\n",
    "    axes[i].set_ylabel(f'Частота по \"{column_name}\"', fontsize=12)\n",
    "\n",
    "sns.despine()\n",
    "plt.tight_layout()\n",
    "\n",
    "plt.show()"
   ]
  },
  {
   "cell_type": "markdown",
   "metadata": {},
   "source": [
    "- На гистограмме по столбцу \"num_pages\" мы видим, что распределение сместилось вправо. Аномальные значения начинаются примерно после 1000 страниц, при этом больше всего книг находится в 250-480-страничном интервале;\n",
    "- На гистограмме по столбцу \"publication_date\" мы видим, что больше всего книг издавалось в 2001-2007 годах. До 1993 и после 2008 книг издавалось мало, что создало аномалии в данных."
   ]
  },
  {
   "cell_type": "code",
   "execution_count": 7,
   "metadata": {},
   "outputs": [
    {
     "data": {
      "text/html": [
       "<div>\n",
       "<style scoped>\n",
       "    .dataframe tbody tr th:only-of-type {\n",
       "        vertical-align: middle;\n",
       "    }\n",
       "\n",
       "    .dataframe tbody tr th {\n",
       "        vertical-align: top;\n",
       "    }\n",
       "\n",
       "    .dataframe thead th {\n",
       "        text-align: right;\n",
       "    }\n",
       "</style>\n",
       "<table border=\"1\" class=\"dataframe\">\n",
       "  <thead>\n",
       "    <tr style=\"text-align: right;\">\n",
       "      <th></th>\n",
       "      <th>min</th>\n",
       "      <th>max</th>\n",
       "    </tr>\n",
       "  </thead>\n",
       "  <tbody>\n",
       "    <tr>\n",
       "      <th>0</th>\n",
       "      <td>1952-12-01</td>\n",
       "      <td>2020-03-31</td>\n",
       "    </tr>\n",
       "  </tbody>\n",
       "</table>\n",
       "</div>"
      ],
      "text/plain": [
       "          min         max\n",
       "0  1952-12-01  2020-03-31"
      ]
     },
     "execution_count": 7,
     "metadata": {},
     "output_type": "execute_result"
    }
   ],
   "source": [
    "# Посмотрим на минимальную и максимальную дату публикации книг\n",
    "query = '''\n",
    "SELECT MIN(publication_date),\n",
    "       MAX(publication_date)\n",
    "FROM books;\n",
    "'''\n",
    "get_sql_data(query)"
   ]
  },
  {
   "cell_type": "code",
   "execution_count": 8,
   "metadata": {},
   "outputs": [
    {
     "data": {
      "text/html": [
       "<div>\n",
       "<style scoped>\n",
       "    .dataframe tbody tr th:only-of-type {\n",
       "        vertical-align: middle;\n",
       "    }\n",
       "\n",
       "    .dataframe tbody tr th {\n",
       "        vertical-align: top;\n",
       "    }\n",
       "\n",
       "    .dataframe thead th {\n",
       "        text-align: right;\n",
       "    }\n",
       "</style>\n",
       "<table border=\"1\" class=\"dataframe\">\n",
       "  <thead>\n",
       "    <tr style=\"text-align: right;\">\n",
       "      <th></th>\n",
       "      <th>author_id</th>\n",
       "      <th>author</th>\n",
       "      <th>authors_num_rows</th>\n",
       "    </tr>\n",
       "  </thead>\n",
       "  <tbody>\n",
       "    <tr>\n",
       "      <th>0</th>\n",
       "      <td>1</td>\n",
       "      <td>A.S. Byatt</td>\n",
       "      <td>636</td>\n",
       "    </tr>\n",
       "    <tr>\n",
       "      <th>1</th>\n",
       "      <td>2</td>\n",
       "      <td>Aesop/Laura Harris/Laura Gibbs</td>\n",
       "      <td>636</td>\n",
       "    </tr>\n",
       "    <tr>\n",
       "      <th>2</th>\n",
       "      <td>3</td>\n",
       "      <td>Agatha Christie</td>\n",
       "      <td>636</td>\n",
       "    </tr>\n",
       "    <tr>\n",
       "      <th>3</th>\n",
       "      <td>4</td>\n",
       "      <td>Alan Brennert</td>\n",
       "      <td>636</td>\n",
       "    </tr>\n",
       "    <tr>\n",
       "      <th>4</th>\n",
       "      <td>5</td>\n",
       "      <td>Alan Moore/David   Lloyd</td>\n",
       "      <td>636</td>\n",
       "    </tr>\n",
       "  </tbody>\n",
       "</table>\n",
       "</div>"
      ],
      "text/plain": [
       "   author_id                          author  authors_num_rows\n",
       "0          1                      A.S. Byatt               636\n",
       "1          2  Aesop/Laura Harris/Laura Gibbs               636\n",
       "2          3                 Agatha Christie               636\n",
       "3          4                   Alan Brennert               636\n",
       "4          5        Alan Moore/David   Lloyd               636"
      ]
     },
     "execution_count": 8,
     "metadata": {},
     "output_type": "execute_result"
    }
   ],
   "source": [
    "# Формируем запрос к таблице authors, выводим первые 5 строк, считаем сколько строк в таблице\n",
    "query = '''\n",
    "SELECT *,\n",
    "       COUNT(*) OVER() authors_num_rows\n",
    "FROM authors \n",
    "LIMIT 5;\n",
    "'''\n",
    "get_sql_data(query)"
   ]
  },
  {
   "cell_type": "markdown",
   "metadata": {},
   "source": [
    "В таблице authors 636 строк."
   ]
  },
  {
   "cell_type": "code",
   "execution_count": 9,
   "metadata": {},
   "outputs": [],
   "source": [
    "# Формируем запрос к таблице authors и сохраняем данные в датасет authors для дальнейшего исследования\n",
    "query = '''\n",
    "SELECT * \n",
    "FROM authors;\n",
    "'''\n",
    "authors = get_sql_data(query)"
   ]
  },
  {
   "cell_type": "code",
   "execution_count": 10,
   "metadata": {},
   "outputs": [
    {
     "name": "stdout",
     "output_type": "stream",
     "text": [
      "<class 'pandas.core.frame.DataFrame'>\n",
      "RangeIndex: 636 entries, 0 to 635\n",
      "Data columns (total 2 columns):\n",
      " #   Column     Non-Null Count  Dtype \n",
      "---  ------     --------------  ----- \n",
      " 0   author_id  636 non-null    int64 \n",
      " 1   author     636 non-null    object\n",
      "dtypes: int64(1), object(1)\n",
      "memory usage: 10.1+ KB\n"
     ]
    }
   ],
   "source": [
    "# Выведем основную информацию о датасете authors\n",
    "authors.info()"
   ]
  },
  {
   "cell_type": "markdown",
   "metadata": {},
   "source": [
    "В датасете authors 2 столбца, 636 строк.\n",
    "\n",
    "Согласно документации к данным:\n",
    "- author_id — идентификатор автора;\n",
    "- author - имя автора."
   ]
  },
  {
   "cell_type": "code",
   "execution_count": 11,
   "metadata": {},
   "outputs": [
    {
     "data": {
      "text/html": [
       "<div>\n",
       "<style scoped>\n",
       "    .dataframe tbody tr th:only-of-type {\n",
       "        vertical-align: middle;\n",
       "    }\n",
       "\n",
       "    .dataframe tbody tr th {\n",
       "        vertical-align: top;\n",
       "    }\n",
       "\n",
       "    .dataframe thead th {\n",
       "        text-align: right;\n",
       "    }\n",
       "</style>\n",
       "<table border=\"1\" class=\"dataframe\">\n",
       "  <thead>\n",
       "    <tr style=\"text-align: right;\">\n",
       "      <th></th>\n",
       "      <th>publisher_id</th>\n",
       "      <th>publisher</th>\n",
       "      <th>publishers_num_rows</th>\n",
       "    </tr>\n",
       "  </thead>\n",
       "  <tbody>\n",
       "    <tr>\n",
       "      <th>0</th>\n",
       "      <td>1</td>\n",
       "      <td>Ace</td>\n",
       "      <td>340</td>\n",
       "    </tr>\n",
       "    <tr>\n",
       "      <th>1</th>\n",
       "      <td>2</td>\n",
       "      <td>Ace Book</td>\n",
       "      <td>340</td>\n",
       "    </tr>\n",
       "    <tr>\n",
       "      <th>2</th>\n",
       "      <td>3</td>\n",
       "      <td>Ace Books</td>\n",
       "      <td>340</td>\n",
       "    </tr>\n",
       "    <tr>\n",
       "      <th>3</th>\n",
       "      <td>4</td>\n",
       "      <td>Ace Hardcover</td>\n",
       "      <td>340</td>\n",
       "    </tr>\n",
       "    <tr>\n",
       "      <th>4</th>\n",
       "      <td>5</td>\n",
       "      <td>Addison Wesley Publishing Company</td>\n",
       "      <td>340</td>\n",
       "    </tr>\n",
       "  </tbody>\n",
       "</table>\n",
       "</div>"
      ],
      "text/plain": [
       "   publisher_id                          publisher  publishers_num_rows\n",
       "0             1                                Ace                  340\n",
       "1             2                           Ace Book                  340\n",
       "2             3                          Ace Books                  340\n",
       "3             4                      Ace Hardcover                  340\n",
       "4             5  Addison Wesley Publishing Company                  340"
      ]
     },
     "execution_count": 11,
     "metadata": {},
     "output_type": "execute_result"
    }
   ],
   "source": [
    "# Формируем запрос к таблице publishers, выводим первые 5 строк, считаем сколько строк в таблице\n",
    "query = '''\n",
    "SELECT *,\n",
    "       COUNT(*) OVER() publishers_num_rows\n",
    "FROM publishers \n",
    "LIMIT 5;\n",
    "'''\n",
    "get_sql_data(query)"
   ]
  },
  {
   "cell_type": "markdown",
   "metadata": {},
   "source": [
    "В таблице publishers 340 строк."
   ]
  },
  {
   "cell_type": "code",
   "execution_count": 12,
   "metadata": {},
   "outputs": [],
   "source": [
    "# Формируем запрос к таблице publishers и сохраняем данные в датасет publishers для дальнейшего исследования\n",
    "query = '''\n",
    "SELECT * \n",
    "FROM publishers;\n",
    "'''\n",
    "publishers = get_sql_data(query)"
   ]
  },
  {
   "cell_type": "code",
   "execution_count": 13,
   "metadata": {},
   "outputs": [
    {
     "name": "stdout",
     "output_type": "stream",
     "text": [
      "<class 'pandas.core.frame.DataFrame'>\n",
      "RangeIndex: 340 entries, 0 to 339\n",
      "Data columns (total 2 columns):\n",
      " #   Column        Non-Null Count  Dtype \n",
      "---  ------        --------------  ----- \n",
      " 0   publisher_id  340 non-null    int64 \n",
      " 1   publisher     340 non-null    object\n",
      "dtypes: int64(1), object(1)\n",
      "memory usage: 5.4+ KB\n"
     ]
    }
   ],
   "source": [
    "# Выведем основную информацию о датасете publishers\n",
    "publishers.info()"
   ]
  },
  {
   "cell_type": "markdown",
   "metadata": {},
   "source": [
    "В датасете publishers 2 столбца, 340 строк.\n",
    "\n",
    "Согласно документации к данным:\n",
    "- publisher_id — идентификатор издательства;\n",
    "- publisher - название издательства."
   ]
  },
  {
   "cell_type": "code",
   "execution_count": 14,
   "metadata": {},
   "outputs": [
    {
     "data": {
      "text/html": [
       "<div>\n",
       "<style scoped>\n",
       "    .dataframe tbody tr th:only-of-type {\n",
       "        vertical-align: middle;\n",
       "    }\n",
       "\n",
       "    .dataframe tbody tr th {\n",
       "        vertical-align: top;\n",
       "    }\n",
       "\n",
       "    .dataframe thead th {\n",
       "        text-align: right;\n",
       "    }\n",
       "</style>\n",
       "<table border=\"1\" class=\"dataframe\">\n",
       "  <thead>\n",
       "    <tr style=\"text-align: right;\">\n",
       "      <th></th>\n",
       "      <th>rating_id</th>\n",
       "      <th>book_id</th>\n",
       "      <th>username</th>\n",
       "      <th>rating</th>\n",
       "      <th>ratings_num_rows</th>\n",
       "    </tr>\n",
       "  </thead>\n",
       "  <tbody>\n",
       "    <tr>\n",
       "      <th>0</th>\n",
       "      <td>1</td>\n",
       "      <td>1</td>\n",
       "      <td>ryanfranco</td>\n",
       "      <td>4</td>\n",
       "      <td>6456</td>\n",
       "    </tr>\n",
       "    <tr>\n",
       "      <th>1</th>\n",
       "      <td>2</td>\n",
       "      <td>1</td>\n",
       "      <td>grantpatricia</td>\n",
       "      <td>2</td>\n",
       "      <td>6456</td>\n",
       "    </tr>\n",
       "    <tr>\n",
       "      <th>2</th>\n",
       "      <td>3</td>\n",
       "      <td>1</td>\n",
       "      <td>brandtandrea</td>\n",
       "      <td>5</td>\n",
       "      <td>6456</td>\n",
       "    </tr>\n",
       "    <tr>\n",
       "      <th>3</th>\n",
       "      <td>4</td>\n",
       "      <td>2</td>\n",
       "      <td>lorichen</td>\n",
       "      <td>3</td>\n",
       "      <td>6456</td>\n",
       "    </tr>\n",
       "    <tr>\n",
       "      <th>4</th>\n",
       "      <td>5</td>\n",
       "      <td>2</td>\n",
       "      <td>mariokeller</td>\n",
       "      <td>2</td>\n",
       "      <td>6456</td>\n",
       "    </tr>\n",
       "  </tbody>\n",
       "</table>\n",
       "</div>"
      ],
      "text/plain": [
       "   rating_id  book_id       username  rating  ratings_num_rows\n",
       "0          1        1     ryanfranco       4              6456\n",
       "1          2        1  grantpatricia       2              6456\n",
       "2          3        1   brandtandrea       5              6456\n",
       "3          4        2       lorichen       3              6456\n",
       "4          5        2    mariokeller       2              6456"
      ]
     },
     "execution_count": 14,
     "metadata": {},
     "output_type": "execute_result"
    }
   ],
   "source": [
    "# Формируем запрос к таблице ratings, выводим первые 5 строк, считаем сколько строк в таблице\n",
    "query = '''\n",
    "SELECT *,\n",
    "       COUNT(*) OVER() ratings_num_rows\n",
    "FROM ratings\n",
    "LIMIT 5;\n",
    "'''\n",
    "get_sql_data(query)"
   ]
  },
  {
   "cell_type": "markdown",
   "metadata": {},
   "source": [
    "В таблице ratings 6456 строк."
   ]
  },
  {
   "cell_type": "code",
   "execution_count": 15,
   "metadata": {},
   "outputs": [],
   "source": [
    "# Формируем запрос к таблице ratings и сохраняем данные в датасет ratings для дальнейшего исследования\n",
    "query = '''\n",
    "SELECT * \n",
    "FROM ratings;\n",
    "'''\n",
    "ratings = get_sql_data(query)"
   ]
  },
  {
   "cell_type": "code",
   "execution_count": 16,
   "metadata": {},
   "outputs": [
    {
     "name": "stdout",
     "output_type": "stream",
     "text": [
      "<class 'pandas.core.frame.DataFrame'>\n",
      "RangeIndex: 6456 entries, 0 to 6455\n",
      "Data columns (total 4 columns):\n",
      " #   Column     Non-Null Count  Dtype \n",
      "---  ------     --------------  ----- \n",
      " 0   rating_id  6456 non-null   int64 \n",
      " 1   book_id    6456 non-null   int64 \n",
      " 2   username   6456 non-null   object\n",
      " 3   rating     6456 non-null   int64 \n",
      "dtypes: int64(3), object(1)\n",
      "memory usage: 201.9+ KB\n"
     ]
    }
   ],
   "source": [
    "# Выведем основную информацию о датасете ratings\n",
    "ratings.info()"
   ]
  },
  {
   "cell_type": "markdown",
   "metadata": {},
   "source": [
    "В датасете ratings 4 столбца, 6456 строк.\n",
    "\n",
    "Согласно документации к данным:\n",
    "- rating_id — идентификатор оценки;\n",
    "- book_id - идентификатор книги;\n",
    "- username - имя пользователя, оставившего оценку;\n",
    "- rating - оценка книги."
   ]
  },
  {
   "cell_type": "code",
   "execution_count": 17,
   "metadata": {},
   "outputs": [
    {
     "data": {
      "text/plain": [
       "count    6456.000000\n",
       "mean        3.928284\n",
       "std         0.943303\n",
       "min         1.000000\n",
       "25%         3.000000\n",
       "50%         4.000000\n",
       "75%         5.000000\n",
       "max         5.000000\n",
       "Name: rating, dtype: float64"
      ]
     },
     "metadata": {},
     "output_type": "display_data"
    }
   ],
   "source": [
    "# Выводим статистическое описание данных столбца rating из ratings\n",
    "display(ratings['rating'].describe())"
   ]
  },
  {
   "cell_type": "markdown",
   "metadata": {},
   "source": [
    "Минимальное значение в столбце - 1, максимальное - 5."
   ]
  },
  {
   "cell_type": "code",
   "execution_count": 18,
   "metadata": {},
   "outputs": [
    {
     "data": {
      "image/png": "[encoded data removed]",
      "text/plain": [
       "<Figure size 500x500 with 1 Axes>"
      ]
     },
     "metadata": {},
     "output_type": "display_data"
    }
   ],
   "source": [
    "# Построим гистограмму для выбранного столбца датасета ratings\n",
    "fig, axes = plt.subplots(nrows=1, ncols=1, figsize=(5, 5))\n",
    "\n",
    "selected_columns = ['rating']\n",
    "\n",
    "# Визуализируем данные по выбранному столбцу\n",
    "for column_name in selected_columns:\n",
    "    ratings[column_name].hist(bins=20, ax=axes)\n",
    "    axes.set_title(f'Распределение по столбцу \"{column_name}\"', fontsize=14)\n",
    "    axes.set_xlabel(column_name, fontsize=14)\n",
    "    axes.set_ylabel(f'Частота по \"{column_name}\"', fontsize=14)\n",
    "\n",
    "sns.despine()\n",
    "plt.tight_layout()\n",
    "\n",
    "plt.show()"
   ]
  },
  {
   "cell_type": "markdown",
   "metadata": {},
   "source": [
    "Больше всего оценок на 4 балла."
   ]
  },
  {
   "cell_type": "code",
   "execution_count": 19,
   "metadata": {},
   "outputs": [
    {
     "data": {
      "text/html": [
       "<div>\n",
       "<style scoped>\n",
       "    .dataframe tbody tr th:only-of-type {\n",
       "        vertical-align: middle;\n",
       "    }\n",
       "\n",
       "    .dataframe tbody tr th {\n",
       "        vertical-align: top;\n",
       "    }\n",
       "\n",
       "    .dataframe thead th {\n",
       "        text-align: right;\n",
       "    }\n",
       "</style>\n",
       "<table border=\"1\" class=\"dataframe\">\n",
       "  <thead>\n",
       "    <tr style=\"text-align: right;\">\n",
       "      <th></th>\n",
       "      <th>review_id</th>\n",
       "      <th>book_id</th>\n",
       "      <th>username</th>\n",
       "      <th>text</th>\n",
       "      <th>reviews_num_rows</th>\n",
       "    </tr>\n",
       "  </thead>\n",
       "  <tbody>\n",
       "    <tr>\n",
       "      <th>0</th>\n",
       "      <td>1</td>\n",
       "      <td>1</td>\n",
       "      <td>brandtandrea</td>\n",
       "      <td>Mention society tell send professor analysis. ...</td>\n",
       "      <td>2793</td>\n",
       "    </tr>\n",
       "    <tr>\n",
       "      <th>1</th>\n",
       "      <td>2</td>\n",
       "      <td>1</td>\n",
       "      <td>ryanfranco</td>\n",
       "      <td>Foot glass pretty audience hit themselves. Amo...</td>\n",
       "      <td>2793</td>\n",
       "    </tr>\n",
       "    <tr>\n",
       "      <th>2</th>\n",
       "      <td>3</td>\n",
       "      <td>2</td>\n",
       "      <td>lorichen</td>\n",
       "      <td>Listen treat keep worry. Miss husband tax but ...</td>\n",
       "      <td>2793</td>\n",
       "    </tr>\n",
       "    <tr>\n",
       "      <th>3</th>\n",
       "      <td>4</td>\n",
       "      <td>3</td>\n",
       "      <td>johnsonamanda</td>\n",
       "      <td>Finally month interesting blue could nature cu...</td>\n",
       "      <td>2793</td>\n",
       "    </tr>\n",
       "    <tr>\n",
       "      <th>4</th>\n",
       "      <td>5</td>\n",
       "      <td>3</td>\n",
       "      <td>scotttamara</td>\n",
       "      <td>Nation purpose heavy give wait song will. List...</td>\n",
       "      <td>2793</td>\n",
       "    </tr>\n",
       "  </tbody>\n",
       "</table>\n",
       "</div>"
      ],
      "text/plain": [
       "   review_id  book_id       username  \\\n",
       "0          1        1   brandtandrea   \n",
       "1          2        1     ryanfranco   \n",
       "2          3        2       lorichen   \n",
       "3          4        3  johnsonamanda   \n",
       "4          5        3    scotttamara   \n",
       "\n",
       "                                                text  reviews_num_rows  \n",
       "0  Mention society tell send professor analysis. ...              2793  \n",
       "1  Foot glass pretty audience hit themselves. Amo...              2793  \n",
       "2  Listen treat keep worry. Miss husband tax but ...              2793  \n",
       "3  Finally month interesting blue could nature cu...              2793  \n",
       "4  Nation purpose heavy give wait song will. List...              2793  "
      ]
     },
     "execution_count": 19,
     "metadata": {},
     "output_type": "execute_result"
    }
   ],
   "source": [
    "# Формируем запрос к таблице reviews, выводим первые 5 строк, считаем сколько строк в таблице\n",
    "query = '''\n",
    "SELECT *,\n",
    "       COUNT(*) OVER() reviews_num_rows\n",
    "FROM reviews\n",
    "LIMIT 5;\n",
    "'''\n",
    "get_sql_data(query)"
   ]
  },
  {
   "cell_type": "markdown",
   "metadata": {},
   "source": [
    "В таблице reviews 2793 строки."
   ]
  },
  {
   "cell_type": "code",
   "execution_count": 20,
   "metadata": {},
   "outputs": [],
   "source": [
    "# Формируем запрос к таблице reviews и сохраняем данные в датасет reviews\n",
    "query = '''\n",
    "SELECT * \n",
    "FROM reviews;\n",
    "'''\n",
    "reviews = get_sql_data(query)"
   ]
  },
  {
   "cell_type": "code",
   "execution_count": 21,
   "metadata": {},
   "outputs": [
    {
     "name": "stdout",
     "output_type": "stream",
     "text": [
      "<class 'pandas.core.frame.DataFrame'>\n",
      "RangeIndex: 2793 entries, 0 to 2792\n",
      "Data columns (total 4 columns):\n",
      " #   Column     Non-Null Count  Dtype \n",
      "---  ------     --------------  ----- \n",
      " 0   review_id  2793 non-null   int64 \n",
      " 1   book_id    2793 non-null   int64 \n",
      " 2   username   2793 non-null   object\n",
      " 3   text       2793 non-null   object\n",
      "dtypes: int64(2), object(2)\n",
      "memory usage: 87.4+ KB\n"
     ]
    }
   ],
   "source": [
    "# Выведем основную информацию о датасете reviews\n",
    "reviews.info()"
   ]
  },
  {
   "cell_type": "markdown",
   "metadata": {},
   "source": [
    "В датасете reviews 4 столбца, 2793 строки.\n",
    "\n",
    "Согласно документации к данным:\n",
    "- review_id — идентификатор обзора;\n",
    "- book_id - идентификатор книги;\n",
    "- username - имя пользователя, написавшего обзор;\n",
    "- text - текст обзора."
   ]
  },
  {
   "cell_type": "markdown",
   "metadata": {},
   "source": [
    "**Выводы:**\n",
    "\n",
    "На данном этапе мы:\n",
    "- Подкоючились к базе данных;\n",
    "- С помощью запросов к базе данных выгрузили по 5 строк каждой из 5 таблиц и посчитали сколько в них строк в целом;\n",
    "- Сохранили данные в датасеты, вывели и изучили общую информацию о них;\n",
    "- Минимальная дата публикации: 1952-12-01;\n",
    "- Максимальная дата публикации: 2020-03-31.\n",
    "\n",
    "Впереди предобработка данных."
   ]
  },
  {
   "cell_type": "markdown",
   "metadata": {},
   "source": [
    "[Возврат к описанию проекта](#toc)"
   ]
  },
  {
   "cell_type": "markdown",
   "metadata": {},
   "source": [
    "<a id=\"2\"></a>\n",
    "### Предобработка данных"
   ]
  },
  {
   "cell_type": "markdown",
   "metadata": {},
   "source": [
    "#### Объявление функций для предобработки данных"
   ]
  },
  {
   "cell_type": "code",
   "execution_count": 22,
   "metadata": {},
   "outputs": [],
   "source": [
    "# Определим функцию для проверки данных на наличие явных дубликатов\n",
    "def find_explicit_duplicates(dataset):\n",
    "    '''\n",
    "    Функция предназначена для поиска явных дубликатов в наборе данных и их отображения:\n",
    "    - используется метод duplicated(), который возвращает булеву серию, указывающую на дублирующиеся строки \n",
    "    в DataFrame. Метод sum() применяется к этой серии, чтобы подсчитать общее количество дублирующихся строк. \n",
    "    Результат сохраняется в переменную explicit_duplicates_cnt;\n",
    "    - функция display() используется для вывода количества явных дубликато;\n",
    "    - в условии проверяется, есть ли явные дубликаты в наборе данных. Если количество явных дубликатов больше 0, \n",
    "    т.е. они есть, то выполняется следующий блок кода. Если нет, то выводится сообщение о том, что явных \n",
    "    дубликатов не найдено;\n",
    "    - если дубликаты найдены, то происходит фильтрация DataFrame, которая выводит только дубликаты в результате, \n",
    "    Метод duplicated(keep=False) помогает нам выбрать все строки, которые являются дубликатами. \n",
    "    Результат сохраняется в переменную explicit_duplicates.\n",
    "    Таким образом, функция возвращает количество явных дубликатов и DataFrame с явными дубликатами (если они есть).\n",
    "    '''\n",
    "    # Находим явные дубликаты\n",
    "    explicit_duplicates_cnt = display(f'Количество явных дубликатов: {dataset.duplicated().sum()}')\n",
    "    \n",
    "    explicit_duplicates = None\n",
    "    explicit_duplicates_cnt = 0\n",
    "    \n",
    "    # Выводим дубликаты в виде таблицы, если они есть\n",
    "    if dataset.duplicated().sum() > 0:\n",
    "        explicit_duplicates = display(dataset[dataset.duplicated(keep=False)])\n",
    "    \n",
    "    else:\n",
    "        display('Явные дубликаты не найдены')\n",
    "    \n",
    "    return explicit_duplicates_cnt, explicit_duplicates"
   ]
  },
  {
   "cell_type": "code",
   "execution_count": 23,
   "metadata": {},
   "outputs": [],
   "source": [
    "# Определим функцию для проверки данных на наличие неявных дубликатов\n",
    "def find_implicit_duplicates(dataset, columns_to_compare):\n",
    "    '''\n",
    "    Функция предназначена для поиска неявных дубликатов в наборе данных на основе выбранных столбцов для сравнения:\n",
    "    - используется метод duplicated(), который возвращает булеву серию, указывающую на дублирующиеся строки в \n",
    "    DataFrame. Параметр subset определяет столбцы, по которым мы хотим искать дубликаты. \n",
    "    Параметр keep=False означает, что все дубликаты будут помечены как True, а не только первый. \n",
    "    Результат сохраняется в переменную implicit_duplicates;\n",
    "    - в условии проверяется, есть ли неявные дубликаты в наборе данных. Если DataFrame implicit_duplicates \n",
    "    пустой (т. е. не содержит дубликатов), то выводится сообщение о том, что неявных дубликатов нет.\n",
    "    Таким образом, функция возвращает DataFrame implicit_duplicates, содержащий все неявные дубликаты \n",
    "    (если они есть). Если неявных дубликатов нет, то возвращается сообщение о их отсутствии.\n",
    "    '''\n",
    "    # Находим неявные дубликаты\n",
    "    implicit_duplicates = dataset[dataset.duplicated(subset=columns_to_compare, keep=False)]\n",
    "    if implicit_duplicates.empty:\n",
    "        display('Неявных дубликатов нет.')\n",
    "  \n",
    "    return implicit_duplicates"
   ]
  },
  {
   "cell_type": "code",
   "execution_count": 24,
   "metadata": {},
   "outputs": [],
   "source": [
    "# Определим функцию, которая будет выводить количество уникальных значений и топ-5 лист самых популярных значений\n",
    "def unique_describe(dataset):\n",
    "    '''\n",
    "    Функция предназначена для вывода информации о количестве уникальных значений для каждого столбца в \n",
    "    наборе данных:\n",
    "    - вычисляется количество уникальных значений в каждом столбце DataFrame. Результат выводится \n",
    "    с помощью функции display();\n",
    "    - метод value_counts() вычисляет частоту встречаемости каждого уникального значения в столбцах DataFrame\n",
    "    и выводит самые часто встречающиеся значения. Метод head() используется для вывода только первых 5\n",
    "    строк результата. Результаты выводятся с помощью функции display().\n",
    "    Таким образом, функция возвращает все три вышеупомянутых выражения в одном вызове функции display().\n",
    "    '''\n",
    "    return display(f'Количество уникальных значений: {len(dataset.unique())}',\n",
    "                    dataset.value_counts().head())   "
   ]
  },
  {
   "cell_type": "markdown",
   "metadata": {},
   "source": [
    "#### Изменение типов данных в столбцах"
   ]
  },
  {
   "cell_type": "code",
   "execution_count": 25,
   "metadata": {},
   "outputs": [],
   "source": [
    "# Изменим тип данных в столбце publication_date датасета books на datetime\n",
    "books['publication_date'] = pd.to_datetime(books['publication_date'])"
   ]
  },
  {
   "cell_type": "markdown",
   "metadata": {},
   "source": [
    "#### Проверим пропуски в датасетах"
   ]
  },
  {
   "cell_type": "code",
   "execution_count": 26,
   "metadata": {},
   "outputs": [
    {
     "data": {
      "text/plain": [
       "'books: 1000'"
      ]
     },
     "metadata": {},
     "output_type": "display_data"
    },
    {
     "data": {
      "text/plain": [
       "'authors: 636'"
      ]
     },
     "metadata": {},
     "output_type": "display_data"
    },
    {
     "data": {
      "text/plain": [
       "'publishers: 340'"
      ]
     },
     "metadata": {},
     "output_type": "display_data"
    },
    {
     "data": {
      "text/plain": [
       "'ratings: 6456'"
      ]
     },
     "metadata": {},
     "output_type": "display_data"
    },
    {
     "data": {
      "text/plain": [
       "'reviews: 2793'"
      ]
     },
     "metadata": {},
     "output_type": "display_data"
    }
   ],
   "source": [
    "# Создадим копию датасетов до преобразований\n",
    "temp1 = books.copy() \n",
    "display(f'books: {len(temp1)}')\n",
    "temp2 = authors.copy() \n",
    "display(f'authors: {len(temp2)}')\n",
    "temp3 = publishers.copy() \n",
    "display(f'publishers: {len(temp3)}')\n",
    "temp4 = ratings.copy() \n",
    "display(f'ratings: {len(temp4)}')\n",
    "temp5 = reviews.copy() \n",
    "display(f'reviews: {len(temp5)}')"
   ]
  },
  {
   "cell_type": "code",
   "execution_count": 27,
   "metadata": {},
   "outputs": [
    {
     "data": {
      "text/plain": [
       "book_id             0\n",
       "author_id           0\n",
       "title               0\n",
       "num_pages           0\n",
       "publication_date    0\n",
       "publisher_id        0\n",
       "dtype: int64"
      ]
     },
     "execution_count": 27,
     "metadata": {},
     "output_type": "execute_result"
    }
   ],
   "source": [
    "# Выведем количество пропущенных значений для датасета books\n",
    "books.isna().sum().sort_values()"
   ]
  },
  {
   "cell_type": "code",
   "execution_count": 28,
   "metadata": {},
   "outputs": [
    {
     "data": {
      "text/plain": [
       "author_id    0\n",
       "author       0\n",
       "dtype: int64"
      ]
     },
     "execution_count": 28,
     "metadata": {},
     "output_type": "execute_result"
    }
   ],
   "source": [
    "# Выведем количество пропущенных значений для датасета authors\n",
    "authors.isna().sum().sort_values()"
   ]
  },
  {
   "cell_type": "code",
   "execution_count": 29,
   "metadata": {},
   "outputs": [
    {
     "data": {
      "text/plain": [
       "publisher_id    0\n",
       "publisher       0\n",
       "dtype: int64"
      ]
     },
     "execution_count": 29,
     "metadata": {},
     "output_type": "execute_result"
    }
   ],
   "source": [
    "# Выведем количество пропущенных значений для датасета publishers\n",
    "publishers.isna().sum().sort_values()"
   ]
  },
  {
   "cell_type": "code",
   "execution_count": 30,
   "metadata": {},
   "outputs": [
    {
     "data": {
      "text/plain": [
       "rating_id    0\n",
       "book_id      0\n",
       "username     0\n",
       "rating       0\n",
       "dtype: int64"
      ]
     },
     "execution_count": 30,
     "metadata": {},
     "output_type": "execute_result"
    }
   ],
   "source": [
    "# Выведем количество пропущенных значений для датасета ratings\n",
    "ratings.isna().sum().sort_values()"
   ]
  },
  {
   "cell_type": "code",
   "execution_count": 31,
   "metadata": {},
   "outputs": [
    {
     "data": {
      "text/plain": [
       "review_id    0\n",
       "book_id      0\n",
       "username     0\n",
       "text         0\n",
       "dtype: int64"
      ]
     },
     "execution_count": 31,
     "metadata": {},
     "output_type": "execute_result"
    }
   ],
   "source": [
    "# Выведем количество пропущенных значений для датасета reviews\n",
    "reviews.isna().sum().sort_values()"
   ]
  },
  {
   "cell_type": "markdown",
   "metadata": {},
   "source": [
    "Пропусков в наших датасетах не обнаружено."
   ]
  },
  {
   "cell_type": "markdown",
   "metadata": {},
   "source": [
    "#### Изучим дубликаты  в датасете"
   ]
  },
  {
   "cell_type": "code",
   "execution_count": 32,
   "metadata": {},
   "outputs": [
    {
     "data": {
      "text/plain": [
       "'Количество явных дубликатов: 0'"
      ]
     },
     "metadata": {},
     "output_type": "display_data"
    },
    {
     "data": {
      "text/plain": [
       "'Явные дубликаты не найдены'"
      ]
     },
     "metadata": {},
     "output_type": "display_data"
    },
    {
     "data": {
      "text/plain": [
       "(0, None)"
      ]
     },
     "execution_count": 32,
     "metadata": {},
     "output_type": "execute_result"
    }
   ],
   "source": [
    "# Проверим явные дубликаты в датасете books\n",
    "dataset = books\n",
    "find_explicit_duplicates(dataset)"
   ]
  },
  {
   "cell_type": "code",
   "execution_count": 33,
   "metadata": {},
   "outputs": [
    {
     "data": {
      "text/plain": [
       "'Неявных дубликатов нет.'"
      ]
     },
     "metadata": {},
     "output_type": "display_data"
    },
    {
     "data": {
      "text/html": [
       "<div>\n",
       "<style scoped>\n",
       "    .dataframe tbody tr th:only-of-type {\n",
       "        vertical-align: middle;\n",
       "    }\n",
       "\n",
       "    .dataframe tbody tr th {\n",
       "        vertical-align: top;\n",
       "    }\n",
       "\n",
       "    .dataframe thead th {\n",
       "        text-align: right;\n",
       "    }\n",
       "</style>\n",
       "<table border=\"1\" class=\"dataframe\">\n",
       "  <thead>\n",
       "    <tr style=\"text-align: right;\">\n",
       "      <th></th>\n",
       "      <th>book_id</th>\n",
       "      <th>author_id</th>\n",
       "      <th>title</th>\n",
       "      <th>num_pages</th>\n",
       "      <th>publication_date</th>\n",
       "      <th>publisher_id</th>\n",
       "    </tr>\n",
       "  </thead>\n",
       "  <tbody>\n",
       "  </tbody>\n",
       "</table>\n",
       "</div>"
      ],
      "text/plain": [
       "Empty DataFrame\n",
       "Columns: [book_id, author_id, title, num_pages, publication_date, publisher_id]\n",
       "Index: []"
      ]
     },
     "execution_count": 33,
     "metadata": {},
     "output_type": "execute_result"
    }
   ],
   "source": [
    "# Проверим неявные дубликаты в датасете books\n",
    "dataset = books\n",
    "columns_to_compare = ['title', 'num_pages']\n",
    "find_implicit_duplicates(dataset.sort_values(by='num_pages'), columns_to_compare)"
   ]
  },
  {
   "cell_type": "code",
   "execution_count": 34,
   "metadata": {},
   "outputs": [
    {
     "data": {
      "text/plain": [
       "'Количество явных дубликатов: 0'"
      ]
     },
     "metadata": {},
     "output_type": "display_data"
    },
    {
     "data": {
      "text/plain": [
       "'Явные дубликаты не найдены'"
      ]
     },
     "metadata": {},
     "output_type": "display_data"
    },
    {
     "data": {
      "text/plain": [
       "(0, None)"
      ]
     },
     "execution_count": 34,
     "metadata": {},
     "output_type": "execute_result"
    }
   ],
   "source": [
    "# Проверим явные дубликаты в датасете authors\n",
    "dataset = authors\n",
    "find_explicit_duplicates(dataset)"
   ]
  },
  {
   "cell_type": "code",
   "execution_count": 35,
   "metadata": {},
   "outputs": [
    {
     "data": {
      "text/plain": [
       "'Количество явных дубликатов: 0'"
      ]
     },
     "metadata": {},
     "output_type": "display_data"
    },
    {
     "data": {
      "text/plain": [
       "'Явные дубликаты не найдены'"
      ]
     },
     "metadata": {},
     "output_type": "display_data"
    },
    {
     "data": {
      "text/plain": [
       "(0, None)"
      ]
     },
     "execution_count": 35,
     "metadata": {},
     "output_type": "execute_result"
    }
   ],
   "source": [
    "# Проверим явные дубликаты в датасете publishers\n",
    "dataset = publishers\n",
    "find_explicit_duplicates(dataset)"
   ]
  },
  {
   "cell_type": "code",
   "execution_count": 36,
   "metadata": {},
   "outputs": [
    {
     "data": {
      "text/plain": [
       "'Количество явных дубликатов: 0'"
      ]
     },
     "metadata": {},
     "output_type": "display_data"
    },
    {
     "data": {
      "text/plain": [
       "'Явные дубликаты не найдены'"
      ]
     },
     "metadata": {},
     "output_type": "display_data"
    },
    {
     "data": {
      "text/plain": [
       "(0, None)"
      ]
     },
     "execution_count": 36,
     "metadata": {},
     "output_type": "execute_result"
    }
   ],
   "source": [
    "# Проверим явные дубликаты в датасете ratings\n",
    "dataset = ratings\n",
    "find_explicit_duplicates(dataset)"
   ]
  },
  {
   "cell_type": "code",
   "execution_count": 37,
   "metadata": {},
   "outputs": [
    {
     "data": {
      "text/plain": [
       "'Неявных дубликатов нет.'"
      ]
     },
     "metadata": {},
     "output_type": "display_data"
    },
    {
     "data": {
      "text/html": [
       "<div>\n",
       "<style scoped>\n",
       "    .dataframe tbody tr th:only-of-type {\n",
       "        vertical-align: middle;\n",
       "    }\n",
       "\n",
       "    .dataframe tbody tr th {\n",
       "        vertical-align: top;\n",
       "    }\n",
       "\n",
       "    .dataframe thead th {\n",
       "        text-align: right;\n",
       "    }\n",
       "</style>\n",
       "<table border=\"1\" class=\"dataframe\">\n",
       "  <thead>\n",
       "    <tr style=\"text-align: right;\">\n",
       "      <th></th>\n",
       "      <th>rating_id</th>\n",
       "      <th>book_id</th>\n",
       "      <th>username</th>\n",
       "      <th>rating</th>\n",
       "    </tr>\n",
       "  </thead>\n",
       "  <tbody>\n",
       "  </tbody>\n",
       "</table>\n",
       "</div>"
      ],
      "text/plain": [
       "Empty DataFrame\n",
       "Columns: [rating_id, book_id, username, rating]\n",
       "Index: []"
      ]
     },
     "execution_count": 37,
     "metadata": {},
     "output_type": "execute_result"
    }
   ],
   "source": [
    "# Проверим неявные дубликаты в датасете ratings\n",
    "dataset = ratings\n",
    "columns_to_compare = ['book_id', 'username']\n",
    "find_implicit_duplicates(dataset.sort_values(by='book_id'), columns_to_compare)"
   ]
  },
  {
   "cell_type": "code",
   "execution_count": 38,
   "metadata": {},
   "outputs": [
    {
     "data": {
      "text/plain": [
       "'Количество явных дубликатов: 0'"
      ]
     },
     "metadata": {},
     "output_type": "display_data"
    },
    {
     "data": {
      "text/plain": [
       "'Явные дубликаты не найдены'"
      ]
     },
     "metadata": {},
     "output_type": "display_data"
    },
    {
     "data": {
      "text/plain": [
       "(0, None)"
      ]
     },
     "execution_count": 38,
     "metadata": {},
     "output_type": "execute_result"
    }
   ],
   "source": [
    "# Проверим явные дубликаты в датасете reviews\n",
    "dataset = reviews\n",
    "find_explicit_duplicates(dataset)"
   ]
  },
  {
   "cell_type": "code",
   "execution_count": 39,
   "metadata": {},
   "outputs": [
    {
     "data": {
      "text/plain": [
       "'Неявных дубликатов нет.'"
      ]
     },
     "metadata": {},
     "output_type": "display_data"
    },
    {
     "data": {
      "text/html": [
       "<div>\n",
       "<style scoped>\n",
       "    .dataframe tbody tr th:only-of-type {\n",
       "        vertical-align: middle;\n",
       "    }\n",
       "\n",
       "    .dataframe tbody tr th {\n",
       "        vertical-align: top;\n",
       "    }\n",
       "\n",
       "    .dataframe thead th {\n",
       "        text-align: right;\n",
       "    }\n",
       "</style>\n",
       "<table border=\"1\" class=\"dataframe\">\n",
       "  <thead>\n",
       "    <tr style=\"text-align: right;\">\n",
       "      <th></th>\n",
       "      <th>review_id</th>\n",
       "      <th>book_id</th>\n",
       "      <th>username</th>\n",
       "      <th>text</th>\n",
       "    </tr>\n",
       "  </thead>\n",
       "  <tbody>\n",
       "  </tbody>\n",
       "</table>\n",
       "</div>"
      ],
      "text/plain": [
       "Empty DataFrame\n",
       "Columns: [review_id, book_id, username, text]\n",
       "Index: []"
      ]
     },
     "execution_count": 39,
     "metadata": {},
     "output_type": "execute_result"
    }
   ],
   "source": [
    "# Проверим неявные дубликаты в датасете reviews\n",
    "dataset = reviews\n",
    "columns_to_compare = ['book_id', 'username']\n",
    "find_implicit_duplicates(dataset.sort_values(by='book_id'), columns_to_compare)"
   ]
  },
  {
   "cell_type": "markdown",
   "metadata": {},
   "source": [
    "Явные и неявные дубликаты не обнаружены."
   ]
  },
  {
   "cell_type": "markdown",
   "metadata": {},
   "source": [
    "#### Изучим уникальные значения в столбцах"
   ]
  },
  {
   "cell_type": "code",
   "execution_count": 40,
   "metadata": {},
   "outputs": [
    {
     "data": {
      "text/plain": [
       "'Количество уникальных значений: 999'"
      ]
     },
     "metadata": {},
     "output_type": "display_data"
    },
    {
     "data": {
      "text/plain": [
       "title\n",
       "Memoirs of a Geisha                                      2\n",
       "'Salem's Lot                                             1\n",
       "The Catcher in the Rye                                   1\n",
       "The Botany of Desire: A Plant's-Eye View of the World    1\n",
       "The Bourne Identity (Jason Bourne  #1)                   1\n",
       "Name: count, dtype: int64"
      ]
     },
     "metadata": {},
     "output_type": "display_data"
    }
   ],
   "source": [
    "# Проанализируем данные столбца title датасета books\n",
    "dataset = books['title']\n",
    "unique_describe(dataset)"
   ]
  },
  {
   "cell_type": "markdown",
   "metadata": {},
   "source": [
    "Видим книгу, напечатанную дважды. Посмотрим на эти данные."
   ]
  },
  {
   "cell_type": "code",
   "execution_count": 41,
   "metadata": {},
   "outputs": [
    {
     "data": {
      "text/html": [
       "<div>\n",
       "<style scoped>\n",
       "    .dataframe tbody tr th:only-of-type {\n",
       "        vertical-align: middle;\n",
       "    }\n",
       "\n",
       "    .dataframe tbody tr th {\n",
       "        vertical-align: top;\n",
       "    }\n",
       "\n",
       "    .dataframe thead th {\n",
       "        text-align: right;\n",
       "    }\n",
       "</style>\n",
       "<table border=\"1\" class=\"dataframe\">\n",
       "  <thead>\n",
       "    <tr style=\"text-align: right;\">\n",
       "      <th></th>\n",
       "      <th>book_id</th>\n",
       "      <th>author_id</th>\n",
       "      <th>title</th>\n",
       "      <th>num_pages</th>\n",
       "      <th>publication_date</th>\n",
       "      <th>publisher_id</th>\n",
       "    </tr>\n",
       "  </thead>\n",
       "  <tbody>\n",
       "    <tr>\n",
       "      <th>0</th>\n",
       "      <td>426</td>\n",
       "      <td>39</td>\n",
       "      <td>Memoirs of a Geisha</td>\n",
       "      <td>434</td>\n",
       "      <td>2005-11-15</td>\n",
       "      <td>241</td>\n",
       "    </tr>\n",
       "    <tr>\n",
       "      <th>1</th>\n",
       "      <td>427</td>\n",
       "      <td>39</td>\n",
       "      <td>Memoirs of a Geisha</td>\n",
       "      <td>503</td>\n",
       "      <td>2005-11-22</td>\n",
       "      <td>311</td>\n",
       "    </tr>\n",
       "  </tbody>\n",
       "</table>\n",
       "</div>"
      ],
      "text/plain": [
       "   book_id  author_id                title  num_pages publication_date  \\\n",
       "0      426         39  Memoirs of a Geisha        434       2005-11-15   \n",
       "1      427         39  Memoirs of a Geisha        503       2005-11-22   \n",
       "\n",
       "   publisher_id  \n",
       "0           241  \n",
       "1           311  "
      ]
     },
     "execution_count": 41,
     "metadata": {},
     "output_type": "execute_result"
    }
   ],
   "source": [
    "query = '''\n",
    "SELECT * \n",
    "FROM books\n",
    "WHERE title = 'Memoirs of a Geisha';\n",
    "'''\n",
    "get_sql_data(query)"
   ]
  },
  {
   "cell_type": "markdown",
   "metadata": {},
   "source": [
    "Это не дубликат, книга напечатана в разных издательствах с разным количеством страниц."
   ]
  },
  {
   "cell_type": "code",
   "execution_count": 42,
   "metadata": {},
   "outputs": [
    {
     "data": {
      "text/plain": [
       "'Количество уникальных значений: 454'"
      ]
     },
     "metadata": {},
     "output_type": "display_data"
    },
    {
     "data": {
      "text/plain": [
       "num_pages\n",
       "288    21\n",
       "320    18\n",
       "368    18\n",
       "400    15\n",
       "240    13\n",
       "Name: count, dtype: int64"
      ]
     },
     "metadata": {},
     "output_type": "display_data"
    }
   ],
   "source": [
    "# Проанализируем данные столбца num_pages датасета books\n",
    "dataset = books['num_pages']\n",
    "unique_describe(dataset)"
   ]
  },
  {
   "cell_type": "markdown",
   "metadata": {},
   "source": [
    "На первый взгляд, ничего необычного в данных нет."
   ]
  },
  {
   "cell_type": "code",
   "execution_count": 43,
   "metadata": {},
   "outputs": [
    {
     "data": {
      "text/plain": [
       "'Количество уникальных значений: 618'"
      ]
     },
     "metadata": {},
     "output_type": "display_data"
    },
    {
     "data": {
      "text/plain": [
       "publication_date\n",
       "2006-08-29    10\n",
       "2004-06-01    10\n",
       "2006-09-26     9\n",
       "2006-04-25     8\n",
       "2004-08-31     8\n",
       "Name: count, dtype: int64"
      ]
     },
     "metadata": {},
     "output_type": "display_data"
    }
   ],
   "source": [
    "# Проанализируем данные столбца publication_date датасета books\n",
    "dataset = books['publication_date']\n",
    "unique_describe(dataset)"
   ]
  },
  {
   "cell_type": "code",
   "execution_count": 44,
   "metadata": {},
   "outputs": [
    {
     "data": {
      "text/html": [
       "<div>\n",
       "<style scoped>\n",
       "    .dataframe tbody tr th:only-of-type {\n",
       "        vertical-align: middle;\n",
       "    }\n",
       "\n",
       "    .dataframe tbody tr th {\n",
       "        vertical-align: top;\n",
       "    }\n",
       "\n",
       "    .dataframe thead th {\n",
       "        text-align: right;\n",
       "    }\n",
       "</style>\n",
       "<table border=\"1\" class=\"dataframe\">\n",
       "  <thead>\n",
       "    <tr style=\"text-align: right;\">\n",
       "      <th></th>\n",
       "      <th>book_id</th>\n",
       "      <th>author_id</th>\n",
       "      <th>title</th>\n",
       "      <th>num_pages</th>\n",
       "      <th>publication_date</th>\n",
       "      <th>publisher_id</th>\n",
       "    </tr>\n",
       "  </thead>\n",
       "  <tbody>\n",
       "    <tr>\n",
       "      <th>0</th>\n",
       "      <td>11</td>\n",
       "      <td>130</td>\n",
       "      <td>A Breath of Snow and Ashes (Outlander  #6)</td>\n",
       "      <td>980</td>\n",
       "      <td>2006-08-29</td>\n",
       "      <td>83</td>\n",
       "    </tr>\n",
       "    <tr>\n",
       "      <th>1</th>\n",
       "      <td>162</td>\n",
       "      <td>434</td>\n",
       "      <td>Coraline</td>\n",
       "      <td>162</td>\n",
       "      <td>2006-08-29</td>\n",
       "      <td>333</td>\n",
       "    </tr>\n",
       "    <tr>\n",
       "      <th>2</th>\n",
       "      <td>249</td>\n",
       "      <td>251</td>\n",
       "      <td>Flags of Our Fathers</td>\n",
       "      <td>382</td>\n",
       "      <td>2006-08-29</td>\n",
       "      <td>35</td>\n",
       "    </tr>\n",
       "    <tr>\n",
       "      <th>3</th>\n",
       "      <td>448</td>\n",
       "      <td>452</td>\n",
       "      <td>Morrigan's Cross (Circle Trilogy  #1)</td>\n",
       "      <td>321</td>\n",
       "      <td>2006-08-29</td>\n",
       "      <td>164</td>\n",
       "    </tr>\n",
       "    <tr>\n",
       "      <th>4</th>\n",
       "      <td>484</td>\n",
       "      <td>127</td>\n",
       "      <td>Odd Thomas (Odd Thomas  #1)</td>\n",
       "      <td>446</td>\n",
       "      <td>2006-08-29</td>\n",
       "      <td>35</td>\n",
       "    </tr>\n",
       "    <tr>\n",
       "      <th>5</th>\n",
       "      <td>490</td>\n",
       "      <td>633</td>\n",
       "      <td>On Beauty</td>\n",
       "      <td>445</td>\n",
       "      <td>2006-08-29</td>\n",
       "      <td>212</td>\n",
       "    </tr>\n",
       "    <tr>\n",
       "      <th>6</th>\n",
       "      <td>594</td>\n",
       "      <td>430</td>\n",
       "      <td>Stardust</td>\n",
       "      <td>248</td>\n",
       "      <td>2006-08-29</td>\n",
       "      <td>129</td>\n",
       "    </tr>\n",
       "    <tr>\n",
       "      <th>7</th>\n",
       "      <td>773</td>\n",
       "      <td>159</td>\n",
       "      <td>The Known World</td>\n",
       "      <td>388</td>\n",
       "      <td>2006-08-29</td>\n",
       "      <td>14</td>\n",
       "    </tr>\n",
       "    <tr>\n",
       "      <th>8</th>\n",
       "      <td>818</td>\n",
       "      <td>291</td>\n",
       "      <td>The Pact</td>\n",
       "      <td>512</td>\n",
       "      <td>2006-08-29</td>\n",
       "      <td>28</td>\n",
       "    </tr>\n",
       "    <tr>\n",
       "      <th>9</th>\n",
       "      <td>954</td>\n",
       "      <td>572</td>\n",
       "      <td>Vanish (Rizzoli &amp; Isles  #5)</td>\n",
       "      <td>401</td>\n",
       "      <td>2006-08-29</td>\n",
       "      <td>33</td>\n",
       "    </tr>\n",
       "  </tbody>\n",
       "</table>\n",
       "</div>"
      ],
      "text/plain": [
       "   book_id  author_id                                       title  num_pages  \\\n",
       "0       11        130  A Breath of Snow and Ashes (Outlander  #6)        980   \n",
       "1      162        434                                    Coraline        162   \n",
       "2      249        251                        Flags of Our Fathers        382   \n",
       "3      448        452       Morrigan's Cross (Circle Trilogy  #1)        321   \n",
       "4      484        127                 Odd Thomas (Odd Thomas  #1)        446   \n",
       "5      490        633                                   On Beauty        445   \n",
       "6      594        430                                    Stardust        248   \n",
       "7      773        159                             The Known World        388   \n",
       "8      818        291                                    The Pact        512   \n",
       "9      954        572                Vanish (Rizzoli & Isles  #5)        401   \n",
       "\n",
       "  publication_date  publisher_id  \n",
       "0       2006-08-29            83  \n",
       "1       2006-08-29           333  \n",
       "2       2006-08-29            35  \n",
       "3       2006-08-29           164  \n",
       "4       2006-08-29            35  \n",
       "5       2006-08-29           212  \n",
       "6       2006-08-29           129  \n",
       "7       2006-08-29            14  \n",
       "8       2006-08-29            28  \n",
       "9       2006-08-29            33  "
      ]
     },
     "execution_count": 44,
     "metadata": {},
     "output_type": "execute_result"
    }
   ],
   "source": [
    "# Посмотрим на первую дату в списке поближе\n",
    "query = '''\n",
    "SELECT * \n",
    "FROM books\n",
    "WHERE publication_date = '2006-08-29';\n",
    "'''\n",
    "get_sql_data(query)"
   ]
  },
  {
   "cell_type": "markdown",
   "metadata": {},
   "source": [
    "Одно издательство в один день выпустило 2 книги, но, в целом, также ничего необычного, такое бывает."
   ]
  },
  {
   "cell_type": "code",
   "execution_count": 45,
   "metadata": {},
   "outputs": [
    {
     "data": {
      "text/plain": [
       "'Количество уникальных значений: 636'"
      ]
     },
     "metadata": {},
     "output_type": "display_data"
    },
    {
     "data": {
      "text/plain": [
       "author\n",
       "A.S. Byatt                    1\n",
       "Neal Stephenson/Guy Abadia    1\n",
       "Mitch Albom                   1\n",
       "Naomi Novik                   1\n",
       "Napoleon Hill                 1\n",
       "Name: count, dtype: int64"
      ]
     },
     "metadata": {},
     "output_type": "display_data"
    }
   ],
   "source": [
    "# Проанализируем данные столбца author датасета authors\n",
    "dataset = authors['author']\n",
    "unique_describe(dataset)"
   ]
  },
  {
   "cell_type": "markdown",
   "metadata": {},
   "source": [
    "Ни одного повторяющегося автора!"
   ]
  },
  {
   "cell_type": "code",
   "execution_count": 46,
   "metadata": {},
   "outputs": [
    {
     "data": {
      "text/plain": [
       "'Количество уникальных значений: 340'"
      ]
     },
     "metadata": {},
     "output_type": "display_data"
    },
    {
     "data": {
      "text/plain": [
       "publisher\n",
       "Ace                                                1\n",
       "Plaza y Janés                                      1\n",
       "Princeton University Press                         1\n",
       "Prestwick House - (Literary Touchstone Classic)    1\n",
       "Pocket Star                                        1\n",
       "Name: count, dtype: int64"
      ]
     },
     "metadata": {},
     "output_type": "display_data"
    }
   ],
   "source": [
    "# Проанализируем данные столбца publisher датасета publishers\n",
    "dataset = publishers['publisher']\n",
    "unique_describe(dataset)"
   ]
  },
  {
   "cell_type": "markdown",
   "metadata": {},
   "source": [
    "Ни одного повторяющегося издательства!"
   ]
  },
  {
   "cell_type": "code",
   "execution_count": 47,
   "metadata": {},
   "outputs": [
    {
     "data": {
      "text/plain": [
       "'Количество уникальных значений: 160'"
      ]
     },
     "metadata": {},
     "output_type": "display_data"
    },
    {
     "data": {
      "text/plain": [
       "username\n",
       "martinadam        56\n",
       "paul88            56\n",
       "richard89         55\n",
       "sfitzgerald       55\n",
       "jennifermiller    53\n",
       "Name: count, dtype: int64"
      ]
     },
     "metadata": {},
     "output_type": "display_data"
    }
   ],
   "source": [
    "# Проанализируем данные столбца username датасета ratings\n",
    "dataset = ratings['username']\n",
    "unique_describe(dataset)"
   ]
  },
  {
   "cell_type": "markdown",
   "metadata": {},
   "source": [
    "О, ну тут явно есть очень активные пользователи, часто ставящие оценки."
   ]
  },
  {
   "cell_type": "code",
   "execution_count": 48,
   "metadata": {},
   "outputs": [
    {
     "data": {
      "text/plain": [
       "'Количество уникальных значений: 5'"
      ]
     },
     "metadata": {},
     "output_type": "display_data"
    },
    {
     "data": {
      "text/plain": [
       "rating\n",
       "4    2396\n",
       "5    2067\n",
       "3    1509\n",
       "2     431\n",
       "1      53\n",
       "Name: count, dtype: int64"
      ]
     },
     "metadata": {},
     "output_type": "display_data"
    }
   ],
   "source": [
    "# Проанализируем данные столбца rating датасета ratings\n",
    "dataset = ratings['rating']\n",
    "unique_describe(dataset)"
   ]
  },
  {
   "cell_type": "markdown",
   "metadata": {},
   "source": [
    "Рейтинги у нас в диапазоне от 1 до 5 в формате целых чисел."
   ]
  },
  {
   "cell_type": "code",
   "execution_count": 49,
   "metadata": {},
   "outputs": [
    {
     "data": {
      "text/plain": [
       "'Количество уникальных значений: 160'"
      ]
     },
     "metadata": {},
     "output_type": "display_data"
    },
    {
     "data": {
      "text/plain": [
       "username\n",
       "susan85        29\n",
       "sfitzgerald    28\n",
       "martinadam     27\n",
       "eallen         26\n",
       "lesliegibbs    26\n",
       "Name: count, dtype: int64"
      ]
     },
     "metadata": {},
     "output_type": "display_data"
    }
   ],
   "source": [
    "# Проанализируем данные столбца username датасета reviews\n",
    "dataset = reviews['username']\n",
    "unique_describe(dataset)"
   ]
  },
  {
   "cell_type": "markdown",
   "metadata": {},
   "source": [
    "Активных любителей писать отзывы тоже достаточно."
   ]
  },
  {
   "cell_type": "code",
   "execution_count": 50,
   "metadata": {},
   "outputs": [
    {
     "data": {
      "text/plain": [
       "'Количество уникальных значений: 2793'"
      ]
     },
     "metadata": {},
     "output_type": "display_data"
    },
    {
     "data": {
      "text/plain": [
       "text\n",
       "Mention society tell send professor analysis. Over provide race technology continue these.                                                                    1\n",
       "Have leg other.                                                                                                                                               1\n",
       "Outside key talk live talk born wish a. Mouth open reason avoid. Institution hundred ask personal suddenly hard care. Politics safe order newspaper point.    1\n",
       "Change forward during current. Writer ready police get those those out letter.                                                                                1\n",
       "House attention side front. Interview force party sign. Food who glass figure audience. Player style herself property.                                        1\n",
       "Name: count, dtype: int64"
      ]
     },
     "metadata": {},
     "output_type": "display_data"
    }
   ],
   "source": [
    "# Проанализируем данные столбца text датасета reviews\n",
    "dataset = reviews['text']\n",
    "unique_describe(dataset)"
   ]
  },
  {
   "cell_type": "markdown",
   "metadata": {},
   "source": [
    "Отзывы все уникальны."
   ]
  },
  {
   "cell_type": "code",
   "execution_count": 51,
   "metadata": {},
   "outputs": [
    {
     "name": "stdout",
     "output_type": "stream",
     "text": [
      "books: 1000 1000 0.0\n",
      "authors: 636 636 0.0\n",
      "publishers: 340 340 0.0\n",
      "ratings: 6456 6456 0.0\n",
      "reviews: 2793 2793 0.0\n"
     ]
    }
   ],
   "source": [
    "# Сверяем наши данные по количеству строк по окончанию обработки данных в датасете.\n",
    "a, b = len(temp1), len(books)\n",
    "print('books:', len(temp1), len(books), round((a - b) / a * 100, 2))\n",
    "a, b = len(temp2), len(authors)\n",
    "print('authors:', len(temp2), len(authors), round((a - b) / a * 100, 2))\n",
    "a, b = len(temp3), len(publishers)\n",
    "print('publishers:', len(temp3), len(publishers), round((a - b) / a * 100, 2))\n",
    "a, b = len(temp4), len(ratings)\n",
    "print('ratings:', len(temp4), len(ratings), round((a - b) / a * 100, 2))\n",
    "a, b = len(temp5), len(reviews)\n",
    "print('reviews:', len(temp5), len(reviews), round((a - b) / a * 100, 2))"
   ]
  },
  {
   "cell_type": "markdown",
   "metadata": {},
   "source": [
    "**Вывод:**\n",
    "\n",
    "В рамках этапа предобработки данных были проведены следующие проверки:\n",
    "- Данные в датасетах были проверены на пропуски, пропуски не найдены;\n",
    "- Данные проверены на наличие дубликатов. Явные и неявные дубликаты отсутствуют;\n",
    "- Изучены уникальные значения в стобцах. В таблице books обнаружили, что книга \"Memoirs of a Geisha\" была напечатана дважды, но разными издательствами;\n",
    "- Изменили тип данных в столбце publication_date датасета books."
   ]
  },
  {
   "cell_type": "markdown",
   "metadata": {},
   "source": [
    "[Возврат к описанию проекта](#toc)"
   ]
  },
  {
   "cell_type": "markdown",
   "metadata": {},
   "source": [
    "<a id=\"3\"></a>\n",
    "### Исследовательский анализ данных"
   ]
  },
  {
   "cell_type": "markdown",
   "metadata": {},
   "source": [
    "#### Посчитаем, сколько книг вышло после 1 января 2000 года"
   ]
  },
  {
   "cell_type": "code",
   "execution_count": 52,
   "metadata": {},
   "outputs": [
    {
     "data": {
      "text/html": [
       "<div>\n",
       "<style scoped>\n",
       "    .dataframe tbody tr th:only-of-type {\n",
       "        vertical-align: middle;\n",
       "    }\n",
       "\n",
       "    .dataframe tbody tr th {\n",
       "        vertical-align: top;\n",
       "    }\n",
       "\n",
       "    .dataframe thead th {\n",
       "        text-align: right;\n",
       "    }\n",
       "</style>\n",
       "<table border=\"1\" class=\"dataframe\">\n",
       "  <thead>\n",
       "    <tr style=\"text-align: right;\">\n",
       "      <th></th>\n",
       "      <th>cnt_books</th>\n",
       "    </tr>\n",
       "  </thead>\n",
       "  <tbody>\n",
       "    <tr>\n",
       "      <th>0</th>\n",
       "      <td>821</td>\n",
       "    </tr>\n",
       "  </tbody>\n",
       "</table>\n",
       "</div>"
      ],
      "text/plain": [
       "   cnt_books\n",
       "0        821"
      ]
     },
     "execution_count": 52,
     "metadata": {},
     "output_type": "execute_result"
    }
   ],
   "source": [
    "# Формируем запрос для подсчета количества книг вышедших после 1 января 2000 года\n",
    "query = '''\n",
    "SELECT COUNT(title) cnt_books\n",
    "FROM books\n",
    "WHERE publication_date >='2000-01-01';\n",
    "'''\n",
    "after_2000 = get_sql_data(query)\n",
    "after_2000"
   ]
  },
  {
   "cell_type": "markdown",
   "metadata": {},
   "source": [
    "После 1 января 2000 года вышла большая часть книг по сравнению с предыдущим периодом - 821."
   ]
  },
  {
   "cell_type": "code",
   "execution_count": 53,
   "metadata": {},
   "outputs": [
    {
     "data": {
      "text/html": [
       "<div>\n",
       "<style scoped>\n",
       "    .dataframe tbody tr th:only-of-type {\n",
       "        vertical-align: middle;\n",
       "    }\n",
       "\n",
       "    .dataframe tbody tr th {\n",
       "        vertical-align: top;\n",
       "    }\n",
       "\n",
       "    .dataframe thead th {\n",
       "        text-align: right;\n",
       "    }\n",
       "</style>\n",
       "<table border=\"1\" class=\"dataframe\">\n",
       "  <thead>\n",
       "    <tr style=\"text-align: right;\">\n",
       "      <th></th>\n",
       "      <th>cnt_books</th>\n",
       "    </tr>\n",
       "  </thead>\n",
       "  <tbody>\n",
       "    <tr>\n",
       "      <th>0</th>\n",
       "      <td>179</td>\n",
       "    </tr>\n",
       "  </tbody>\n",
       "</table>\n",
       "</div>"
      ],
      "text/plain": [
       "   cnt_books\n",
       "0        179"
      ]
     },
     "execution_count": 53,
     "metadata": {},
     "output_type": "execute_result"
    }
   ],
   "source": [
    "# Формируем запрос для подсчета количества книг вышедших до 1 января 2000 года\n",
    "query = '''\n",
    "SELECT COUNT(title) cnt_books\n",
    "FROM books\n",
    "WHERE publication_date < '2000-01-01';\n",
    "'''\n",
    "before_2000 = get_sql_data(query)\n",
    "before_2000"
   ]
  },
  {
   "cell_type": "markdown",
   "metadata": {},
   "source": [
    "Визуализируем распределение количества книг в разные годы."
   ]
  },
  {
   "cell_type": "code",
   "execution_count": 54,
   "metadata": {},
   "outputs": [
    {
     "data": {
      "image/png": "[encoded data removed]",
      "text/plain": [
       "<Figure size 1500x600 with 2 Axes>"
      ]
     },
     "metadata": {},
     "output_type": "display_data"
    }
   ],
   "source": [
    "# Создаем фигуру с двумя осями\n",
    "fig, axes = plt.subplots(nrows=1, ncols=2, figsize=(15, 6))\n",
    "\n",
    "# Визуализируем распределение по количеству книг в разные годы с помощью гистограммы\n",
    "sns.histplot(data=books, x='publication_date', binwidth=365, kde=False, ax=axes[0], common_norm=False, \n",
    "             stat='density')\n",
    "axes[0].set_xlabel('Дата публикации')\n",
    "axes[0].set_ylabel('Количество книг')\n",
    "axes[0].set_title('Распределение по количеству книг в разные годы')\n",
    "axes[0].tick_params(axis='x', rotation=45)\n",
    "sns.despine(ax=axes[0])\n",
    "\n",
    "# Данные о количестве книг до и после 2000 года\n",
    "before_2000_count = before_2000['cnt_books'][0]\n",
    "after_2000_count = after_2000['cnt_books'][0]\n",
    "\n",
    "# Создаем список с данными и метками\n",
    "labels = ['До 2000 года', 'После 2000 года']\n",
    "counts = [before_2000_count, after_2000_count]\n",
    "\n",
    "# Определяем цвета\n",
    "colors = sns.color_palette(\"viridis\", len(labels))\n",
    "\n",
    "# Строим круговую диаграмму с распределением количества книг до 1 января 2000 года и после\n",
    "axes[1].pie(counts, labels=labels, autopct='%1.1f%%', startangle=140, explode=(0.01, 0), colors=colors)\n",
    "axes[1].set_title('Распределение книг до и после 1 января 2000 года')\n",
    "axes[1].axis('equal')\n",
    "\n",
    "# Убираем лишние оси и метки\n",
    "axes[1].set_ylabel('')\n",
    "axes[1].tick_params(axis='y', which='both', left=False, labelleft=False)\n",
    "\n",
    "plt.tight_layout()\n",
    "plt.show()"
   ]
  },
  {
   "cell_type": "markdown",
   "metadata": {},
   "source": [
    "Более 82% всех книг было издано после 1 января 2000 года. Самый продуктивный год по изданию книг - 2007."
   ]
  },
  {
   "cell_type": "markdown",
   "metadata": {},
   "source": [
    "#### Посчитаем количество обзоров и среднюю оценку для каждой книги"
   ]
  },
  {
   "cell_type": "code",
   "execution_count": 55,
   "metadata": {},
   "outputs": [
    {
     "data": {
      "text/html": [
       "<div>\n",
       "<style scoped>\n",
       "    .dataframe tbody tr th:only-of-type {\n",
       "        vertical-align: middle;\n",
       "    }\n",
       "\n",
       "    .dataframe tbody tr th {\n",
       "        vertical-align: top;\n",
       "    }\n",
       "\n",
       "    .dataframe thead th {\n",
       "        text-align: right;\n",
       "    }\n",
       "</style>\n",
       "<table border=\"1\" class=\"dataframe\">\n",
       "  <thead>\n",
       "    <tr style=\"text-align: right;\">\n",
       "      <th></th>\n",
       "      <th>books</th>\n",
       "      <th>book_id</th>\n",
       "      <th>cnt_reviews</th>\n",
       "      <th>avg_rating</th>\n",
       "    </tr>\n",
       "  </thead>\n",
       "  <tbody>\n",
       "    <tr>\n",
       "      <th>0</th>\n",
       "      <td>Twilight (Twilight  #1)</td>\n",
       "      <td>948</td>\n",
       "      <td>7</td>\n",
       "      <td>3.662500</td>\n",
       "    </tr>\n",
       "    <tr>\n",
       "      <th>1</th>\n",
       "      <td>Water for Elephants</td>\n",
       "      <td>963</td>\n",
       "      <td>6</td>\n",
       "      <td>3.977273</td>\n",
       "    </tr>\n",
       "    <tr>\n",
       "      <th>2</th>\n",
       "      <td>The Glass Castle</td>\n",
       "      <td>734</td>\n",
       "      <td>6</td>\n",
       "      <td>4.206897</td>\n",
       "    </tr>\n",
       "    <tr>\n",
       "      <th>3</th>\n",
       "      <td>Harry Potter and the Prisoner of Azkaban (Harr...</td>\n",
       "      <td>302</td>\n",
       "      <td>6</td>\n",
       "      <td>4.414634</td>\n",
       "    </tr>\n",
       "    <tr>\n",
       "      <th>4</th>\n",
       "      <td>The Curious Incident of the Dog in the Night-Time</td>\n",
       "      <td>695</td>\n",
       "      <td>6</td>\n",
       "      <td>4.081081</td>\n",
       "    </tr>\n",
       "    <tr>\n",
       "      <th>...</th>\n",
       "      <td>...</td>\n",
       "      <td>...</td>\n",
       "      <td>...</td>\n",
       "      <td>...</td>\n",
       "    </tr>\n",
       "    <tr>\n",
       "      <th>995</th>\n",
       "      <td>Anne Rice's The Vampire Lestat: A Graphic Novel</td>\n",
       "      <td>83</td>\n",
       "      <td>0</td>\n",
       "      <td>3.666667</td>\n",
       "    </tr>\n",
       "    <tr>\n",
       "      <th>996</th>\n",
       "      <td>The Natural Way to Draw</td>\n",
       "      <td>808</td>\n",
       "      <td>0</td>\n",
       "      <td>3.000000</td>\n",
       "    </tr>\n",
       "    <tr>\n",
       "      <th>997</th>\n",
       "      <td>The Cat in the Hat and Other Dr. Seuss Favorites</td>\n",
       "      <td>672</td>\n",
       "      <td>0</td>\n",
       "      <td>5.000000</td>\n",
       "    </tr>\n",
       "    <tr>\n",
       "      <th>998</th>\n",
       "      <td>Essential Tales and Poems</td>\n",
       "      <td>221</td>\n",
       "      <td>0</td>\n",
       "      <td>4.000000</td>\n",
       "    </tr>\n",
       "    <tr>\n",
       "      <th>999</th>\n",
       "      <td>Disney's Beauty and the Beast (A Little Golden...</td>\n",
       "      <td>191</td>\n",
       "      <td>0</td>\n",
       "      <td>4.000000</td>\n",
       "    </tr>\n",
       "  </tbody>\n",
       "</table>\n",
       "<p>1000 rows × 4 columns</p>\n",
       "</div>"
      ],
      "text/plain": [
       "                                                 books  book_id  cnt_reviews  \\\n",
       "0                              Twilight (Twilight  #1)      948            7   \n",
       "1                                  Water for Elephants      963            6   \n",
       "2                                     The Glass Castle      734            6   \n",
       "3    Harry Potter and the Prisoner of Azkaban (Harr...      302            6   \n",
       "4    The Curious Incident of the Dog in the Night-Time      695            6   \n",
       "..                                                 ...      ...          ...   \n",
       "995    Anne Rice's The Vampire Lestat: A Graphic Novel       83            0   \n",
       "996                            The Natural Way to Draw      808            0   \n",
       "997   The Cat in the Hat and Other Dr. Seuss Favorites      672            0   \n",
       "998                          Essential Tales and Poems      221            0   \n",
       "999  Disney's Beauty and the Beast (A Little Golden...      191            0   \n",
       "\n",
       "     avg_rating  \n",
       "0      3.662500  \n",
       "1      3.977273  \n",
       "2      4.206897  \n",
       "3      4.414634  \n",
       "4      4.081081  \n",
       "..          ...  \n",
       "995    3.666667  \n",
       "996    3.000000  \n",
       "997    5.000000  \n",
       "998    4.000000  \n",
       "999    4.000000  \n",
       "\n",
       "[1000 rows x 4 columns]"
      ]
     },
     "execution_count": 55,
     "metadata": {},
     "output_type": "execute_result"
    }
   ],
   "source": [
    "# Формируем запрос для подсчета количества обзоров и средней оценки для каждой книги\n",
    "query = '''\n",
    "SELECT b.title books,\n",
    "       b.book_id,\n",
    "       COUNT(DISTINCT rev.review_id) cnt_reviews,\n",
    "       AVG(r.rating) avg_rating\n",
    "FROM books b\n",
    "LEFT JOIN reviews rev ON rev.book_id=b.book_id\n",
    "LEFT JOIN ratings r ON r.book_id=b.book_id\n",
    "GROUP BY b.title, b.book_id\n",
    "ORDER BY cnt_reviews DESC;\n",
    "'''\n",
    "books_rev_rat = get_sql_data(query)\n",
    "books_rev_rat"
   ]
  },
  {
   "cell_type": "markdown",
   "metadata": {},
   "source": [
    "Визуализируем распределение для подсчета количества обзоров и средней оценки для каждой книги."
   ]
  },
  {
   "cell_type": "code",
   "execution_count": 56,
   "metadata": {},
   "outputs": [
    {
     "data": {
      "image/png": "[encoded data removed]",
      "text/plain": [
       "<Figure size 1000x600 with 2 Axes>"
      ]
     },
     "metadata": {},
     "output_type": "display_data"
    }
   ],
   "source": [
    "# Создаем фигуру с двумя осями\n",
    "fig, axes = plt.subplots(nrows=1, ncols=2, figsize=(10, 6))\n",
    "\n",
    "# Визуализируем распределение по количеству обзоров для всех книг с помощью боксплота\n",
    "sns.boxplot(y=books_rev_rat['cnt_reviews'], palette='viridis', ax=axes[0], showmeans=True)\n",
    "axes[0].set_xlabel('Количество обзоров')\n",
    "axes[0].set_title('Распределение количества обзоров по книгам')\n",
    "\n",
    "# Визуализируем распределение по средней оценке для всех книг с помощью боксплота\n",
    "sns.boxplot(y=books_rev_rat['avg_rating'], palette='viridis', ax=axes[1], showmeans=True)\n",
    "axes[1].set_xlabel('Средняя оценка')\n",
    "axes[1].set_title('Распределение средней оценки по книгам')\n",
    "\n",
    "sns.despine()\n",
    "plt.tight_layout()\n",
    "plt.show()"
   ]
  },
  {
   "cell_type": "markdown",
   "metadata": {},
   "source": [
    "- В среднем на книгу приходится 2-3 обзора, после 4-х  - мы видим аномальные значения;\n",
    "- Средняя оценка книги лежит в диапазоне от 3.5 до 4.4. Рейтинг меньше 2.4 - аномален."
   ]
  },
  {
   "cell_type": "markdown",
   "metadata": {},
   "source": [
    "#### Определим издательство, которое выпустило наибольшее число книг толще 50 страниц (тем самым, исключим из анализа брошюры)"
   ]
  },
  {
   "cell_type": "code",
   "execution_count": 57,
   "metadata": {},
   "outputs": [
    {
     "data": {
      "text/html": [
       "<div>\n",
       "<style scoped>\n",
       "    .dataframe tbody tr th:only-of-type {\n",
       "        vertical-align: middle;\n",
       "    }\n",
       "\n",
       "    .dataframe tbody tr th {\n",
       "        vertical-align: top;\n",
       "    }\n",
       "\n",
       "    .dataframe thead th {\n",
       "        text-align: right;\n",
       "    }\n",
       "</style>\n",
       "<table border=\"1\" class=\"dataframe\">\n",
       "  <thead>\n",
       "    <tr style=\"text-align: right;\">\n",
       "      <th></th>\n",
       "      <th>publisher_id</th>\n",
       "      <th>publisher</th>\n",
       "    </tr>\n",
       "  </thead>\n",
       "  <tbody>\n",
       "    <tr>\n",
       "      <th>0</th>\n",
       "      <td>212</td>\n",
       "      <td>Penguin Books</td>\n",
       "    </tr>\n",
       "  </tbody>\n",
       "</table>\n",
       "</div>"
      ],
      "text/plain": [
       "   publisher_id      publisher\n",
       "0           212  Penguin Books"
      ]
     },
     "execution_count": 57,
     "metadata": {},
     "output_type": "execute_result"
    }
   ],
   "source": [
    "# Формируем запрос для определения издательства, которое выпустило наибольшее число книг толще 50 страниц\n",
    "query = '''\n",
    "WITH \n",
    "tab AS\n",
    "(SELECT COUNT(DISTINCT b.book_id) cnt_books, \n",
    "       p.publisher_id,\n",
    "       p.publisher\n",
    "FROM books b\n",
    "JOIN publishers p ON p.publisher_id=b.publisher_id\n",
    "WHERE num_pages>50\n",
    "GROUP BY p.publisher_id, p.publisher\n",
    "ORDER BY cnt_books DESC\n",
    "LIMIT 1)\n",
    "\n",
    "SELECT publisher_id,\n",
    "       publisher\n",
    "FROM tab;\n",
    "'''\n",
    "get_sql_data(query)"
   ]
  },
  {
   "cell_type": "markdown",
   "metadata": {},
   "source": [
    "Итак, издательство, которое выпустило наибольшее число книг толще 50 страниц - это \"Penguin Books\"."
   ]
  },
  {
   "cell_type": "code",
   "execution_count": 58,
   "metadata": {},
   "outputs": [
    {
     "data": {
      "text/html": [
       "<div>\n",
       "<style scoped>\n",
       "    .dataframe tbody tr th:only-of-type {\n",
       "        vertical-align: middle;\n",
       "    }\n",
       "\n",
       "    .dataframe tbody tr th {\n",
       "        vertical-align: top;\n",
       "    }\n",
       "\n",
       "    .dataframe thead th {\n",
       "        text-align: right;\n",
       "    }\n",
       "</style>\n",
       "<table border=\"1\" class=\"dataframe\">\n",
       "  <thead>\n",
       "    <tr style=\"text-align: right;\">\n",
       "      <th></th>\n",
       "      <th>publication_year</th>\n",
       "      <th>publisher_id</th>\n",
       "      <th>total_books</th>\n",
       "    </tr>\n",
       "  </thead>\n",
       "  <tbody>\n",
       "    <tr>\n",
       "      <th>0</th>\n",
       "      <td>1994</td>\n",
       "      <td>1</td>\n",
       "      <td>42</td>\n",
       "    </tr>\n",
       "    <tr>\n",
       "      <th>1</th>\n",
       "      <td>2000</td>\n",
       "      <td>1</td>\n",
       "      <td>42</td>\n",
       "    </tr>\n",
       "    <tr>\n",
       "      <th>2</th>\n",
       "      <td>2005</td>\n",
       "      <td>5</td>\n",
       "      <td>42</td>\n",
       "    </tr>\n",
       "    <tr>\n",
       "      <th>3</th>\n",
       "      <td>2003</td>\n",
       "      <td>11</td>\n",
       "      <td>42</td>\n",
       "    </tr>\n",
       "    <tr>\n",
       "      <th>4</th>\n",
       "      <td>2007</td>\n",
       "      <td>1</td>\n",
       "      <td>42</td>\n",
       "    </tr>\n",
       "    <tr>\n",
       "      <th>5</th>\n",
       "      <td>2002</td>\n",
       "      <td>6</td>\n",
       "      <td>42</td>\n",
       "    </tr>\n",
       "    <tr>\n",
       "      <th>6</th>\n",
       "      <td>2004</td>\n",
       "      <td>2</td>\n",
       "      <td>42</td>\n",
       "    </tr>\n",
       "    <tr>\n",
       "      <th>7</th>\n",
       "      <td>2006</td>\n",
       "      <td>8</td>\n",
       "      <td>42</td>\n",
       "    </tr>\n",
       "    <tr>\n",
       "      <th>8</th>\n",
       "      <td>2001</td>\n",
       "      <td>2</td>\n",
       "      <td>42</td>\n",
       "    </tr>\n",
       "    <tr>\n",
       "      <th>9</th>\n",
       "      <td>1999</td>\n",
       "      <td>4</td>\n",
       "      <td>42</td>\n",
       "    </tr>\n",
       "    <tr>\n",
       "      <th>10</th>\n",
       "      <td>1995</td>\n",
       "      <td>1</td>\n",
       "      <td>42</td>\n",
       "    </tr>\n",
       "  </tbody>\n",
       "</table>\n",
       "</div>"
      ],
      "text/plain": [
       "    publication_year  publisher_id  total_books\n",
       "0               1994             1           42\n",
       "1               2000             1           42\n",
       "2               2005             5           42\n",
       "3               2003            11           42\n",
       "4               2007             1           42\n",
       "5               2002             6           42\n",
       "6               2004             2           42\n",
       "7               2006             8           42\n",
       "8               2001             2           42\n",
       "9               1999             4           42\n",
       "10              1995             1           42"
      ]
     },
     "execution_count": 58,
     "metadata": {},
     "output_type": "execute_result"
    }
   ],
   "source": [
    "# Сделаем срез по данному издательству и создадим новый столбец, содержащий только год публикации, сгруппируем\n",
    "# по году публикации и посчитаем количество опубликованных книг за каждый год и общую сумму публикаций \n",
    "query = '''\n",
    "WITH \n",
    "tab AS\n",
    "(SELECT *,\n",
    "       CAST(EXTRACT(YEAR FROM publication_date) AS INTEGER) publication_year\n",
    "FROM books\n",
    "WHERE publisher_id = 212)\n",
    "\n",
    "SELECT publication_year, \n",
    "       COUNT(publisher_id) publisher_id,\n",
    "       (SELECT COUNT(*) FROM tab) total_books\n",
    "FROM tab\n",
    "GROUP BY publication_year;\n",
    "'''\n",
    "penguin_year = get_sql_data(query)\n",
    "penguin_year"
   ]
  },
  {
   "cell_type": "code",
   "execution_count": 59,
   "metadata": {},
   "outputs": [
    {
     "data": {
      "image/png": "[encoded data removed]",
      "text/plain": [
       "<Figure size 1000x600 with 1 Axes>"
      ]
     },
     "metadata": {},
     "output_type": "display_data"
    }
   ],
   "source": [
    "# Визуализируем распределение книг по датам\n",
    "plt.figure(figsize=(10, 6))\n",
    "sns.barplot(data=penguin_year.sort_values(by='publication_year'), x='publication_year', y='publisher_id', \n",
    "            color='lightblue')\n",
    "plt.xlabel('Дата публикации')\n",
    "plt.ylabel('Количество книг')\n",
    "plt.title('Распределение книг, изданных Penguin Books по годам')\n",
    "plt.xticks(rotation=45, ha='right')\n",
    "\n",
    "sns.despine()\n",
    "plt.tight_layout()\n",
    "\n",
    "plt.show()"
   ]
  },
  {
   "cell_type": "markdown",
   "metadata": {},
   "source": [
    "42 книги было выпущено издательством \"Penguin Books\" в период с 1994 по 2007 годы. Максимальное количество было выпущено в 2003 году - 11 штук."
   ]
  },
  {
   "cell_type": "markdown",
   "metadata": {},
   "source": [
    "#### Определим автора с самой высокой средней оценкой книг (будем учитывать книги только с 50 и более оценками)"
   ]
  },
  {
   "cell_type": "code",
   "execution_count": 60,
   "metadata": {},
   "outputs": [
    {
     "data": {
      "text/html": [
       "<div>\n",
       "<style scoped>\n",
       "    .dataframe tbody tr th:only-of-type {\n",
       "        vertical-align: middle;\n",
       "    }\n",
       "\n",
       "    .dataframe tbody tr th {\n",
       "        vertical-align: top;\n",
       "    }\n",
       "\n",
       "    .dataframe thead th {\n",
       "        text-align: right;\n",
       "    }\n",
       "</style>\n",
       "<table border=\"1\" class=\"dataframe\">\n",
       "  <thead>\n",
       "    <tr style=\"text-align: right;\">\n",
       "      <th></th>\n",
       "      <th>author_id</th>\n",
       "      <th>author</th>\n",
       "      <th>avg_rating</th>\n",
       "    </tr>\n",
       "  </thead>\n",
       "  <tbody>\n",
       "    <tr>\n",
       "      <th>0</th>\n",
       "      <td>236</td>\n",
       "      <td>J.K. Rowling/Mary GrandPré</td>\n",
       "      <td>4.287097</td>\n",
       "    </tr>\n",
       "  </tbody>\n",
       "</table>\n",
       "</div>"
      ],
      "text/plain": [
       "   author_id                      author  avg_rating\n",
       "0        236  J.K. Rowling/Mary GrandPré    4.287097"
      ]
     },
     "execution_count": 60,
     "metadata": {},
     "output_type": "execute_result"
    }
   ],
   "source": [
    "# Формируем запрос для определения автора с самой высокой средней оценкой книг (>=50)\n",
    "query = '''\n",
    "WITH \n",
    "tab AS \n",
    "(SELECT book_id\n",
    "FROM ratings\n",
    "GROUP BY book_id\n",
    "HAVING COUNT(*) >= 50)\n",
    "\n",
    "SELECT a.author_id,\n",
    "       a.author,\n",
    "       AVG(r.rating) AS avg_rating\n",
    "FROM books b\n",
    "JOIN authors a ON b.author_id = a.author_id\n",
    "JOIN ratings r ON b.book_id = r.book_id\n",
    "JOIN tab ON b.book_id = tab.book_id\n",
    "GROUP BY a.author_id, a.author\n",
    "ORDER BY avg_rating DESC\n",
    "LIMIT 1;\n",
    "'''\n",
    "get_sql_data(query)"
   ]
  },
  {
   "cell_type": "markdown",
   "metadata": {},
   "source": [
    "Автор с самой высокой средней оценкой книги (при условии, что оценок 50 и более) - Джоан Роулинг. Посмотрим, какая книга самая популярная по рейтингам."
   ]
  },
  {
   "cell_type": "code",
   "execution_count": 61,
   "metadata": {},
   "outputs": [
    {
     "data": {
      "text/html": [
       "<div>\n",
       "<style scoped>\n",
       "    .dataframe tbody tr th:only-of-type {\n",
       "        vertical-align: middle;\n",
       "    }\n",
       "\n",
       "    .dataframe tbody tr th {\n",
       "        vertical-align: top;\n",
       "    }\n",
       "\n",
       "    .dataframe thead th {\n",
       "        text-align: right;\n",
       "    }\n",
       "</style>\n",
       "<table border=\"1\" class=\"dataframe\">\n",
       "  <thead>\n",
       "    <tr style=\"text-align: right;\">\n",
       "      <th></th>\n",
       "      <th>title</th>\n",
       "      <th>publication_date</th>\n",
       "      <th>avg_rating</th>\n",
       "    </tr>\n",
       "  </thead>\n",
       "  <tbody>\n",
       "    <tr>\n",
       "      <th>0</th>\n",
       "      <td>Harry Potter and the Prisoner of Azkaban (Harr...</td>\n",
       "      <td>2004-05-01</td>\n",
       "      <td>4.414634</td>\n",
       "    </tr>\n",
       "  </tbody>\n",
       "</table>\n",
       "</div>"
      ],
      "text/plain": [
       "                                               title publication_date  \\\n",
       "0  Harry Potter and the Prisoner of Azkaban (Harr...       2004-05-01   \n",
       "\n",
       "   avg_rating  \n",
       "0    4.414634  "
      ]
     },
     "execution_count": 61,
     "metadata": {},
     "output_type": "execute_result"
    }
   ],
   "source": [
    "query = '''\n",
    "WITH\n",
    "tab AS\n",
    "(SELECT book_id\n",
    "FROM ratings\n",
    "GROUP BY book_id\n",
    "HAVING COUNT(*) >= 50),\n",
    "\n",
    "tab1 AS\n",
    "(SELECT b.book_id,\n",
    "        b.title,\n",
    "        b.publication_date\n",
    "FROM books b\n",
    "WHERE b.author_id = 236)\n",
    "\n",
    "SELECT tab1.title, \n",
    "       tab1.publication_date,\n",
    "       AVG(r.rating) AS avg_rating\n",
    "FROM tab1\n",
    "JOIN ratings r ON tab1.book_id = r.book_id\n",
    "JOIN tab ON tab1.book_id = tab.book_id\n",
    "GROUP BY tab1.title, tab1.publication_date\n",
    "ORDER BY avg_rating DESC\n",
    "LIMIT 1;\n",
    "'''\n",
    "get_sql_data(query)\n"
   ]
  },
  {
   "cell_type": "markdown",
   "metadata": {},
   "source": [
    "И это третья часть саги о Гарри Поттере - \"Гарри Поттер и узник Азкабана\", вышедшая в печать в 2004 году."
   ]
  },
  {
   "cell_type": "markdown",
   "metadata": {},
   "source": [
    "#### Посчитаем среднее количество обзоров от пользователей, которые поставили больше 48 оценок"
   ]
  },
  {
   "cell_type": "code",
   "execution_count": 62,
   "metadata": {},
   "outputs": [
    {
     "data": {
      "text/html": [
       "<div>\n",
       "<style scoped>\n",
       "    .dataframe tbody tr th:only-of-type {\n",
       "        vertical-align: middle;\n",
       "    }\n",
       "\n",
       "    .dataframe tbody tr th {\n",
       "        vertical-align: top;\n",
       "    }\n",
       "\n",
       "    .dataframe thead th {\n",
       "        text-align: right;\n",
       "    }\n",
       "</style>\n",
       "<table border=\"1\" class=\"dataframe\">\n",
       "  <thead>\n",
       "    <tr style=\"text-align: right;\">\n",
       "      <th></th>\n",
       "      <th>avg_review</th>\n",
       "    </tr>\n",
       "  </thead>\n",
       "  <tbody>\n",
       "    <tr>\n",
       "      <th>0</th>\n",
       "      <td>24.0</td>\n",
       "    </tr>\n",
       "  </tbody>\n",
       "</table>\n",
       "</div>"
      ],
      "text/plain": [
       "   avg_review\n",
       "0        24.0"
      ]
     },
     "execution_count": 62,
     "metadata": {},
     "output_type": "execute_result"
    }
   ],
   "source": [
    "# Формируем запрос для определения среднего количества обзоров от пользователей, которые поставили больше 48 оценок\n",
    "query = '''\n",
    "WITH\n",
    "tab AS\n",
    "(SELECT username\n",
    "FROM ratings \n",
    "GROUP BY username\n",
    "HAVING COUNT(*)>48),\n",
    "\n",
    "tab1 AS\n",
    "(SELECT tab.username,\n",
    "        COUNT(rev.review_id) cnt_review\n",
    "FROM reviews rev\n",
    "JOIN tab ON tab.username=rev.username\n",
    "GROUP BY tab.username)\n",
    "\n",
    "SELECT AVG(cnt_review) avg_review\n",
    "FROM tab1;\n",
    "'''\n",
    "get_sql_data(query)"
   ]
  },
  {
   "cell_type": "markdown",
   "metadata": {},
   "source": [
    "Среднее количество обзоров от пользователей, поставивших более 48 оценок, составляет 24. Проверим, на всякий случай."
   ]
  },
  {
   "cell_type": "code",
   "execution_count": 63,
   "metadata": {},
   "outputs": [
    {
     "data": {
      "text/plain": [
       "24.0"
      ]
     },
     "execution_count": 63,
     "metadata": {},
     "output_type": "execute_result"
    }
   ],
   "source": [
    "# Группируем оценки по книгам и находим тех пользователей, кто поставил больше 48 оценок\n",
    "users_ratings_count = ratings.groupby('username').size().reset_index(name='rating_count')\n",
    "\n",
    "# Отфильтровываем пользователей с более, чем 48 оценками\n",
    "popular_users = users_ratings_count[users_ratings_count['rating_count'] > 48]\n",
    "\n",
    "# Фильтруем таблицу reviews по именам пользователей из popular_name\n",
    "filtered_reviews = reviews[reviews['username'].isin(popular_users['username'])]\n",
    "\n",
    "# Группируем данные по имени пользователя, считаем количество отзывов\n",
    "avg_reviews_by_user = (filtered_reviews\n",
    "                        .groupby('username')\n",
    "                        .agg({'review_id': 'count'})\n",
    "                        .reset_index()\n",
    "                        .rename(columns={'review_id': 'reviews_count'}))\n",
    "# Найдем среднее количество отзывов\n",
    "avg_reviews_count = avg_reviews_by_user['reviews_count'].mean()\n",
    "avg_reviews_count"
   ]
  },
  {
   "cell_type": "markdown",
   "metadata": {},
   "source": [
    "[Возврат к описанию проекта](#toc)"
   ]
  },
  {
   "cell_type": "markdown",
   "metadata": {},
   "source": [
    "<a id=\"4\"></a>\n",
    "### Общий вывод"
   ]
  },
  {
   "cell_type": "markdown",
   "metadata": {},
   "source": [
    "Мы проанализировали  данные сервиса для чтения книг по подписке с целью формирования ценностного предложения для нового продукта.\n",
    "\n",
    "***Исследование состояло из следующих этапов:***\n",
    "\n",
    "- ***Загрузка и базовый анализ данных:***\n",
    "  - подкоючились к базе данных;\n",
    "  - с помощью запросов к базе данных выгрузили по 5 строк каждой из 5 таблиц и посчитали сколько в них строк в целом;\n",
    "  - сохранили данные в датасеты, вывели и изучили общую информацию о них;\n",
    "  - минимальная дата публикации: 1952-12-01;\n",
    "  - максимальная дата публикации: 2020-03-31.\n",
    "  \n",
    "- ***Предобработка данных:***\n",
    "  - данные в датасетах были проверены на пропуски, пропуски не найдены;\n",
    "  - данные проверены на наличие дубликатов. Явные и неявные дубликаты отсутствуют;\n",
    "  - изучены уникальные значения в стобцах. В таблице books обнаружили, что книга \"Memoirs of a Geisha\" была напечатана дважды, но разными издательствами;\n",
    "  - изменили тип данных в столбце publication_date датасета books.\n",
    "\n",
    "- ***Исследовательский анализ данных:***\n",
    "  - после 1 января 2000 года вышла 821 книга, что составляет 82.1% от общего числа книг в наших данных;\n",
    "  - самый продуктивный год по изданию книг - 2007;\n",
    "  - в среднем на книгу приходится 2-3 обзора;\n",
    "  - средняя оценка книги лежит в диапазоне от 3.5 до 4.4;\n",
    "  - издательство, которое выпустило наибольшее число книг толще 50 страниц - это \"Penguin Books\";\n",
    "  - 42 книги было выпущено издательством \"Penguin Books\" в период с 1994 по 2007 годы. Максимальное количество было выпущено в 2003 году - 11 штук;\n",
    "  - автор с самой высокой средней оценкой книги (при условии, что оценок 50 и более) - Джоан Роулинг. И это третья часть саги о Гарри Поттере - \"Гарри Поттер и узник Азкабана\", вышедшая в печать в 2004 году;\n",
    "  - среднее количество обзоров от пользователей, поставивших более 48 оценок, составляет 24.\n",
    "\n",
    "- ***Выводы и рекомендации:***\n",
    "  - наш сервис содержит довольно устаревший ассортимент книг. Большая часть из них была выпущена до 2007 года;\n",
    "  - необходимо организовать поступление новинок;\n",
    "  - ориентироваться при выборе новинок можно на рейтинги книг или отзывы на них, могу предположить, что людей может заинтересовать фэнтези, сказки, что-то, позволяющее на время отвлечься от новостной \"короновирусной\" или другой аналогичной повестки дня."
   ]
  }
 ],
 "metadata": {
  "ExecuteTimeLog": [
   {
    "duration": 9373,
    "start_time": "2024-02-18T08:09:32.411Z"
   },
   {
    "duration": 242,
    "start_time": "2024-02-18T08:09:41.786Z"
   },
   {
    "duration": 70,
    "start_time": "2024-02-18T08:09:42.029Z"
   },
   {
    "duration": 10,
    "start_time": "2024-02-18T08:09:42.101Z"
   },
   {
    "duration": 28,
    "start_time": "2024-02-18T08:09:42.112Z"
   },
   {
    "duration": 671,
    "start_time": "2024-02-18T08:09:42.141Z"
   },
   {
    "duration": 50,
    "start_time": "2024-02-18T08:09:42.813Z"
   },
   {
    "duration": 50,
    "start_time": "2024-02-18T08:09:42.864Z"
   },
   {
    "duration": 120,
    "start_time": "2024-02-18T08:09:42.916Z"
   },
   {
    "duration": 9,
    "start_time": "2024-02-18T08:09:43.038Z"
   },
   {
    "duration": 77,
    "start_time": "2024-02-18T08:09:43.048Z"
   },
   {
    "duration": 48,
    "start_time": "2024-02-18T08:09:43.127Z"
   },
   {
    "duration": 9,
    "start_time": "2024-02-18T08:09:43.176Z"
   },
   {
    "duration": 87,
    "start_time": "2024-02-18T08:09:43.187Z"
   },
   {
    "duration": 86,
    "start_time": "2024-02-18T08:09:43.276Z"
   },
   {
    "duration": 8,
    "start_time": "2024-02-18T08:09:43.364Z"
   },
   {
    "duration": 10,
    "start_time": "2024-02-18T08:09:43.374Z"
   },
   {
    "duration": 288,
    "start_time": "2024-02-18T08:09:43.385Z"
   },
   {
    "duration": 53,
    "start_time": "2024-02-18T08:09:43.674Z"
   },
   {
    "duration": 63,
    "start_time": "2024-02-18T08:09:43.728Z"
   },
   {
    "duration": 12,
    "start_time": "2024-02-18T08:09:43.792Z"
   },
   {
    "duration": 4,
    "start_time": "2024-02-18T08:11:47.850Z"
   },
   {
    "duration": 4,
    "start_time": "2024-02-18T08:11:48.467Z"
   },
   {
    "duration": 3,
    "start_time": "2024-02-18T08:11:49.135Z"
   },
   {
    "duration": 5,
    "start_time": "2024-02-18T08:11:50.483Z"
   },
   {
    "duration": 12,
    "start_time": "2024-02-18T08:11:51.847Z"
   },
   {
    "duration": 5,
    "start_time": "2024-02-18T08:11:52.767Z"
   },
   {
    "duration": 6,
    "start_time": "2024-02-18T08:11:53.533Z"
   },
   {
    "duration": 6,
    "start_time": "2024-02-18T08:11:55.468Z"
   },
   {
    "duration": 6,
    "start_time": "2024-02-18T08:11:56.334Z"
   },
   {
    "duration": 6,
    "start_time": "2024-02-18T08:11:57.301Z"
   },
   {
    "duration": 10,
    "start_time": "2024-02-18T08:15:05.749Z"
   },
   {
    "duration": 10,
    "start_time": "2024-02-18T08:16:39.568Z"
   },
   {
    "duration": 8,
    "start_time": "2024-02-18T08:18:05.313Z"
   },
   {
    "duration": 15,
    "start_time": "2024-02-18T08:18:05.768Z"
   },
   {
    "duration": 8,
    "start_time": "2024-02-18T08:18:06.466Z"
   },
   {
    "duration": 7,
    "start_time": "2024-02-18T08:18:07.117Z"
   },
   {
    "duration": 8,
    "start_time": "2024-02-18T08:18:07.602Z"
   },
   {
    "duration": 12,
    "start_time": "2024-02-18T08:18:08.035Z"
   },
   {
    "duration": 9,
    "start_time": "2024-02-18T08:18:08.401Z"
   },
   {
    "duration": 10,
    "start_time": "2024-02-18T08:18:08.883Z"
   },
   {
    "duration": 67,
    "start_time": "2024-02-18T08:18:09.300Z"
   },
   {
    "duration": 9681,
    "start_time": "2024-02-18T08:36:27.821Z"
   },
   {
    "duration": 230,
    "start_time": "2024-02-18T08:36:37.504Z"
   },
   {
    "duration": 71,
    "start_time": "2024-02-18T08:36:37.735Z"
   },
   {
    "duration": 12,
    "start_time": "2024-02-18T08:36:37.808Z"
   },
   {
    "duration": 11,
    "start_time": "2024-02-18T08:36:37.821Z"
   },
   {
    "duration": 638,
    "start_time": "2024-02-18T08:36:37.833Z"
   },
   {
    "duration": 51,
    "start_time": "2024-02-18T08:36:38.473Z"
   },
   {
    "duration": 51,
    "start_time": "2024-02-18T08:36:38.526Z"
   },
   {
    "duration": 123,
    "start_time": "2024-02-18T08:36:38.579Z"
   },
   {
    "duration": 10,
    "start_time": "2024-02-18T08:36:38.705Z"
   },
   {
    "duration": 52,
    "start_time": "2024-02-18T08:36:38.717Z"
   },
   {
    "duration": 47,
    "start_time": "2024-02-18T08:36:38.771Z"
   },
   {
    "duration": 9,
    "start_time": "2024-02-18T08:36:38.819Z"
   },
   {
    "duration": 58,
    "start_time": "2024-02-18T08:36:38.830Z"
   },
   {
    "duration": 88,
    "start_time": "2024-02-18T08:36:38.890Z"
   },
   {
    "duration": 9,
    "start_time": "2024-02-18T08:36:38.980Z"
   },
   {
    "duration": 7,
    "start_time": "2024-02-18T08:36:38.991Z"
   },
   {
    "duration": 274,
    "start_time": "2024-02-18T08:36:39.000Z"
   },
   {
    "duration": 53,
    "start_time": "2024-02-18T08:36:39.276Z"
   },
   {
    "duration": 62,
    "start_time": "2024-02-18T08:36:39.331Z"
   },
   {
    "duration": 11,
    "start_time": "2024-02-18T08:36:39.395Z"
   },
   {
    "duration": 6,
    "start_time": "2024-02-18T08:36:39.409Z"
   },
   {
    "duration": 22,
    "start_time": "2024-02-18T08:36:39.416Z"
   },
   {
    "duration": 11,
    "start_time": "2024-02-18T08:36:39.439Z"
   },
   {
    "duration": 25,
    "start_time": "2024-02-18T08:36:39.451Z"
   },
   {
    "duration": 10,
    "start_time": "2024-02-18T08:36:39.478Z"
   },
   {
    "duration": 8,
    "start_time": "2024-02-18T08:36:39.490Z"
   },
   {
    "duration": 7,
    "start_time": "2024-02-18T08:36:39.507Z"
   },
   {
    "duration": 6,
    "start_time": "2024-02-18T08:36:39.516Z"
   },
   {
    "duration": 6,
    "start_time": "2024-02-18T08:36:39.524Z"
   },
   {
    "duration": 35,
    "start_time": "2024-02-18T08:36:39.532Z"
   },
   {
    "duration": 11,
    "start_time": "2024-02-18T08:36:39.568Z"
   },
   {
    "duration": 10,
    "start_time": "2024-02-18T08:36:39.580Z"
   },
   {
    "duration": 8,
    "start_time": "2024-02-18T08:36:39.592Z"
   },
   {
    "duration": 8,
    "start_time": "2024-02-18T08:36:39.602Z"
   },
   {
    "duration": 56,
    "start_time": "2024-02-18T08:36:39.612Z"
   },
   {
    "duration": 12,
    "start_time": "2024-02-18T08:36:39.669Z"
   },
   {
    "duration": 12,
    "start_time": "2024-02-18T08:36:39.683Z"
   },
   {
    "duration": 10,
    "start_time": "2024-02-18T08:36:39.697Z"
   },
   {
    "duration": 7,
    "start_time": "2024-02-18T08:36:39.709Z"
   },
   {
    "duration": 54,
    "start_time": "2024-02-18T08:36:39.717Z"
   },
   {
    "duration": 23,
    "start_time": "2024-02-18T08:36:39.774Z"
   },
   {
    "duration": 8,
    "start_time": "2024-02-18T08:36:39.799Z"
   },
   {
    "duration": 51,
    "start_time": "2024-02-18T08:36:39.809Z"
   },
   {
    "duration": 7,
    "start_time": "2024-02-18T08:36:39.862Z"
   },
   {
    "duration": 7,
    "start_time": "2024-02-18T08:36:39.871Z"
   },
   {
    "duration": 7,
    "start_time": "2024-02-18T08:36:39.880Z"
   },
   {
    "duration": 7,
    "start_time": "2024-02-18T08:36:39.889Z"
   },
   {
    "duration": 8,
    "start_time": "2024-02-18T08:36:39.898Z"
   },
   {
    "duration": 11,
    "start_time": "2024-02-18T08:36:39.907Z"
   },
   {
    "duration": 47,
    "start_time": "2024-02-18T08:36:39.920Z"
   },
   {
    "duration": 50,
    "start_time": "2024-02-18T08:36:39.968Z"
   },
   {
    "duration": 86,
    "start_time": "2024-02-18T08:36:40.019Z"
   },
   {
    "duration": 0,
    "start_time": "2024-02-18T08:36:40.106Z"
   },
   {
    "duration": 0,
    "start_time": "2024-02-18T08:36:40.107Z"
   },
   {
    "duration": 0,
    "start_time": "2024-02-18T08:36:40.109Z"
   },
   {
    "duration": 0,
    "start_time": "2024-02-18T08:36:40.110Z"
   },
   {
    "duration": 0,
    "start_time": "2024-02-18T08:36:40.111Z"
   },
   {
    "duration": 0,
    "start_time": "2024-02-18T08:36:40.113Z"
   },
   {
    "duration": 0,
    "start_time": "2024-02-18T08:36:40.114Z"
   },
   {
    "duration": 0,
    "start_time": "2024-02-18T08:36:40.116Z"
   },
   {
    "duration": 0,
    "start_time": "2024-02-18T08:36:40.117Z"
   },
   {
    "duration": 0,
    "start_time": "2024-02-18T08:36:40.118Z"
   },
   {
    "duration": 0,
    "start_time": "2024-02-18T08:36:40.120Z"
   },
   {
    "duration": 50,
    "start_time": "2024-02-18T08:39:47.426Z"
   },
   {
    "duration": 466,
    "start_time": "2024-02-18T08:39:50.825Z"
   },
   {
    "duration": 94,
    "start_time": "2024-02-18T08:39:55.807Z"
   },
   {
    "duration": 9736,
    "start_time": "2024-02-18T08:40:03.237Z"
   },
   {
    "duration": 231,
    "start_time": "2024-02-18T08:40:12.975Z"
   },
   {
    "duration": 80,
    "start_time": "2024-02-18T08:40:13.208Z"
   },
   {
    "duration": 9,
    "start_time": "2024-02-18T08:40:13.290Z"
   },
   {
    "duration": 12,
    "start_time": "2024-02-18T08:40:13.300Z"
   },
   {
    "duration": 579,
    "start_time": "2024-02-18T08:40:13.314Z"
   },
   {
    "duration": 50,
    "start_time": "2024-02-18T08:40:13.894Z"
   },
   {
    "duration": 50,
    "start_time": "2024-02-18T08:40:13.946Z"
   },
   {
    "duration": 123,
    "start_time": "2024-02-18T08:40:13.997Z"
   },
   {
    "duration": 9,
    "start_time": "2024-02-18T08:40:14.122Z"
   },
   {
    "duration": 61,
    "start_time": "2024-02-18T08:40:14.132Z"
   },
   {
    "duration": 48,
    "start_time": "2024-02-18T08:40:14.194Z"
   },
   {
    "duration": 9,
    "start_time": "2024-02-18T08:40:14.244Z"
   },
   {
    "duration": 54,
    "start_time": "2024-02-18T08:40:14.254Z"
   },
   {
    "duration": 78,
    "start_time": "2024-02-18T08:40:14.310Z"
   },
   {
    "duration": 10,
    "start_time": "2024-02-18T08:40:14.389Z"
   },
   {
    "duration": 8,
    "start_time": "2024-02-18T08:40:14.400Z"
   },
   {
    "duration": 285,
    "start_time": "2024-02-18T08:40:14.409Z"
   },
   {
    "duration": 52,
    "start_time": "2024-02-18T08:40:14.695Z"
   },
   {
    "duration": 61,
    "start_time": "2024-02-18T08:40:14.748Z"
   },
   {
    "duration": 10,
    "start_time": "2024-02-18T08:40:14.811Z"
   },
   {
    "duration": 4,
    "start_time": "2024-02-18T08:40:14.822Z"
   },
   {
    "duration": 7,
    "start_time": "2024-02-18T08:40:14.827Z"
   },
   {
    "duration": 6,
    "start_time": "2024-02-18T08:40:14.835Z"
   },
   {
    "duration": 7,
    "start_time": "2024-02-18T08:40:14.842Z"
   },
   {
    "duration": 10,
    "start_time": "2024-02-18T08:40:14.850Z"
   },
   {
    "duration": 7,
    "start_time": "2024-02-18T08:40:14.861Z"
   },
   {
    "duration": 5,
    "start_time": "2024-02-18T08:40:14.872Z"
   },
   {
    "duration": 6,
    "start_time": "2024-02-18T08:40:14.878Z"
   },
   {
    "duration": 6,
    "start_time": "2024-02-18T08:40:14.885Z"
   },
   {
    "duration": 15,
    "start_time": "2024-02-18T08:40:14.893Z"
   },
   {
    "duration": 9,
    "start_time": "2024-02-18T08:40:14.909Z"
   },
   {
    "duration": 8,
    "start_time": "2024-02-18T08:40:14.919Z"
   },
   {
    "duration": 36,
    "start_time": "2024-02-18T08:40:14.929Z"
   },
   {
    "duration": 8,
    "start_time": "2024-02-18T08:40:14.967Z"
   },
   {
    "duration": 11,
    "start_time": "2024-02-18T08:40:14.977Z"
   },
   {
    "duration": 12,
    "start_time": "2024-02-18T08:40:14.989Z"
   },
   {
    "duration": 10,
    "start_time": "2024-02-18T08:40:15.002Z"
   },
   {
    "duration": 41,
    "start_time": "2024-02-18T08:40:15.013Z"
   },
   {
    "duration": 10,
    "start_time": "2024-02-18T08:40:15.065Z"
   },
   {
    "duration": 76,
    "start_time": "2024-02-18T08:40:15.076Z"
   },
   {
    "duration": 5,
    "start_time": "2024-02-18T08:40:15.154Z"
   },
   {
    "duration": 27,
    "start_time": "2024-02-18T08:40:15.160Z"
   },
   {
    "duration": 63,
    "start_time": "2024-02-18T08:40:15.188Z"
   },
   {
    "duration": 6,
    "start_time": "2024-02-18T08:40:15.253Z"
   },
   {
    "duration": 14,
    "start_time": "2024-02-18T08:40:15.260Z"
   },
   {
    "duration": 20,
    "start_time": "2024-02-18T08:40:15.275Z"
   },
   {
    "duration": 30,
    "start_time": "2024-02-18T08:40:15.297Z"
   },
   {
    "duration": 18,
    "start_time": "2024-02-18T08:40:15.329Z"
   },
   {
    "duration": 28,
    "start_time": "2024-02-18T08:40:15.349Z"
   },
   {
    "duration": 6,
    "start_time": "2024-02-18T08:40:15.379Z"
   },
   {
    "duration": 60,
    "start_time": "2024-02-18T08:40:15.387Z"
   },
   {
    "duration": 49,
    "start_time": "2024-02-18T08:40:15.448Z"
   },
   {
    "duration": 452,
    "start_time": "2024-02-18T08:40:15.498Z"
   },
   {
    "duration": 81,
    "start_time": "2024-02-18T08:40:15.952Z"
   },
   {
    "duration": 341,
    "start_time": "2024-02-18T08:40:16.034Z"
   },
   {
    "duration": 51,
    "start_time": "2024-02-18T08:40:16.377Z"
   },
   {
    "duration": 50,
    "start_time": "2024-02-18T08:40:16.429Z"
   },
   {
    "duration": 251,
    "start_time": "2024-02-18T08:40:16.481Z"
   },
   {
    "duration": 85,
    "start_time": "2024-02-18T08:40:16.733Z"
   },
   {
    "duration": 50,
    "start_time": "2024-02-18T08:40:16.819Z"
   },
   {
    "duration": 52,
    "start_time": "2024-02-18T08:40:16.871Z"
   },
   {
    "duration": 11,
    "start_time": "2024-02-18T08:40:16.924Z"
   },
   {
    "duration": 334,
    "start_time": "2024-02-18T08:41:55.658Z"
   },
   {
    "duration": 10020,
    "start_time": "2024-02-18T08:42:25.248Z"
   },
   {
    "duration": 236,
    "start_time": "2024-02-18T08:42:35.270Z"
   },
   {
    "duration": 70,
    "start_time": "2024-02-18T08:42:35.508Z"
   },
   {
    "duration": 10,
    "start_time": "2024-02-18T08:42:35.580Z"
   },
   {
    "duration": 13,
    "start_time": "2024-02-18T08:42:35.591Z"
   },
   {
    "duration": 611,
    "start_time": "2024-02-18T08:42:35.605Z"
   },
   {
    "duration": 51,
    "start_time": "2024-02-18T08:42:36.217Z"
   },
   {
    "duration": 51,
    "start_time": "2024-02-18T08:42:36.270Z"
   },
   {
    "duration": 122,
    "start_time": "2024-02-18T08:42:36.322Z"
   },
   {
    "duration": 9,
    "start_time": "2024-02-18T08:42:36.445Z"
   },
   {
    "duration": 53,
    "start_time": "2024-02-18T08:42:36.456Z"
   },
   {
    "duration": 47,
    "start_time": "2024-02-18T08:42:36.511Z"
   },
   {
    "duration": 9,
    "start_time": "2024-02-18T08:42:36.560Z"
   },
   {
    "duration": 54,
    "start_time": "2024-02-18T08:42:36.571Z"
   },
   {
    "duration": 89,
    "start_time": "2024-02-18T08:42:36.626Z"
   },
   {
    "duration": 9,
    "start_time": "2024-02-18T08:42:36.717Z"
   },
   {
    "duration": 11,
    "start_time": "2024-02-18T08:42:36.728Z"
   },
   {
    "duration": 289,
    "start_time": "2024-02-18T08:42:36.740Z"
   },
   {
    "duration": 53,
    "start_time": "2024-02-18T08:42:37.031Z"
   },
   {
    "duration": 62,
    "start_time": "2024-02-18T08:42:37.086Z"
   },
   {
    "duration": 9,
    "start_time": "2024-02-18T08:42:37.150Z"
   },
   {
    "duration": 6,
    "start_time": "2024-02-18T08:42:37.161Z"
   },
   {
    "duration": 9,
    "start_time": "2024-02-18T08:42:37.169Z"
   },
   {
    "duration": 7,
    "start_time": "2024-02-18T08:42:37.180Z"
   },
   {
    "duration": 10,
    "start_time": "2024-02-18T08:42:37.188Z"
   },
   {
    "duration": 11,
    "start_time": "2024-02-18T08:42:37.200Z"
   },
   {
    "duration": 5,
    "start_time": "2024-02-18T08:42:37.212Z"
   },
   {
    "duration": 6,
    "start_time": "2024-02-18T08:42:37.218Z"
   },
   {
    "duration": 6,
    "start_time": "2024-02-18T08:42:37.225Z"
   },
   {
    "duration": 33,
    "start_time": "2024-02-18T08:42:37.232Z"
   },
   {
    "duration": 7,
    "start_time": "2024-02-18T08:42:37.267Z"
   },
   {
    "duration": 10,
    "start_time": "2024-02-18T08:42:37.275Z"
   },
   {
    "duration": 10,
    "start_time": "2024-02-18T08:42:37.287Z"
   },
   {
    "duration": 9,
    "start_time": "2024-02-18T08:42:37.299Z"
   },
   {
    "duration": 7,
    "start_time": "2024-02-18T08:42:37.310Z"
   },
   {
    "duration": 52,
    "start_time": "2024-02-18T08:42:37.319Z"
   },
   {
    "duration": 9,
    "start_time": "2024-02-18T08:42:37.372Z"
   },
   {
    "duration": 10,
    "start_time": "2024-02-18T08:42:37.382Z"
   },
   {
    "duration": 9,
    "start_time": "2024-02-18T08:42:37.393Z"
   },
   {
    "duration": 6,
    "start_time": "2024-02-18T08:42:37.404Z"
   },
   {
    "duration": 52,
    "start_time": "2024-02-18T08:42:37.413Z"
   },
   {
    "duration": 6,
    "start_time": "2024-02-18T08:42:37.467Z"
   },
   {
    "duration": 6,
    "start_time": "2024-02-18T08:42:37.474Z"
   },
   {
    "duration": 56,
    "start_time": "2024-02-18T08:42:37.481Z"
   },
   {
    "duration": 7,
    "start_time": "2024-02-18T08:42:37.538Z"
   },
   {
    "duration": 7,
    "start_time": "2024-02-18T08:42:37.546Z"
   },
   {
    "duration": 7,
    "start_time": "2024-02-18T08:42:37.555Z"
   },
   {
    "duration": 5,
    "start_time": "2024-02-18T08:42:37.563Z"
   },
   {
    "duration": 6,
    "start_time": "2024-02-18T08:42:37.569Z"
   },
   {
    "duration": 9,
    "start_time": "2024-02-18T08:42:37.577Z"
   },
   {
    "duration": 7,
    "start_time": "2024-02-18T08:42:37.588Z"
   },
   {
    "duration": 49,
    "start_time": "2024-02-18T08:42:37.596Z"
   },
   {
    "duration": 49,
    "start_time": "2024-02-18T08:42:37.647Z"
   },
   {
    "duration": 463,
    "start_time": "2024-02-18T08:42:37.698Z"
   },
   {
    "duration": 82,
    "start_time": "2024-02-18T08:42:38.166Z"
   },
   {
    "duration": 344,
    "start_time": "2024-02-18T08:42:38.250Z"
   },
   {
    "duration": 52,
    "start_time": "2024-02-18T08:42:38.596Z"
   },
   {
    "duration": 50,
    "start_time": "2024-02-18T08:42:38.650Z"
   },
   {
    "duration": 322,
    "start_time": "2024-02-18T08:42:38.701Z"
   },
   {
    "duration": 55,
    "start_time": "2024-02-18T08:42:39.025Z"
   },
   {
    "duration": 50,
    "start_time": "2024-02-18T08:42:39.082Z"
   },
   {
    "duration": 50,
    "start_time": "2024-02-18T08:42:39.134Z"
   },
   {
    "duration": 11,
    "start_time": "2024-02-18T08:42:39.186Z"
   },
   {
    "duration": 9436,
    "start_time": "2024-02-19T03:51:56.033Z"
   },
   {
    "duration": 253,
    "start_time": "2024-02-19T03:52:05.471Z"
   },
   {
    "duration": 74,
    "start_time": "2024-02-19T03:52:05.727Z"
   },
   {
    "duration": 8,
    "start_time": "2024-02-19T03:52:05.802Z"
   },
   {
    "duration": 14,
    "start_time": "2024-02-19T03:52:05.812Z"
   },
   {
    "duration": 567,
    "start_time": "2024-02-19T03:52:05.827Z"
   },
   {
    "duration": 54,
    "start_time": "2024-02-19T03:52:06.395Z"
   },
   {
    "duration": 51,
    "start_time": "2024-02-19T03:52:06.451Z"
   },
   {
    "duration": 111,
    "start_time": "2024-02-19T03:52:06.504Z"
   },
   {
    "duration": 8,
    "start_time": "2024-02-19T03:52:06.616Z"
   },
   {
    "duration": 57,
    "start_time": "2024-02-19T03:52:06.625Z"
   },
   {
    "duration": 48,
    "start_time": "2024-02-19T03:52:06.683Z"
   },
   {
    "duration": 7,
    "start_time": "2024-02-19T03:52:06.733Z"
   },
   {
    "duration": 56,
    "start_time": "2024-02-19T03:52:06.742Z"
   },
   {
    "duration": 79,
    "start_time": "2024-02-19T03:52:06.799Z"
   },
   {
    "duration": 9,
    "start_time": "2024-02-19T03:52:06.880Z"
   },
   {
    "duration": 9,
    "start_time": "2024-02-19T03:52:06.890Z"
   },
   {
    "duration": 237,
    "start_time": "2024-02-19T03:52:06.901Z"
   },
   {
    "duration": 57,
    "start_time": "2024-02-19T03:52:07.139Z"
   },
   {
    "duration": 65,
    "start_time": "2024-02-19T03:52:07.197Z"
   },
   {
    "duration": 8,
    "start_time": "2024-02-19T03:52:07.264Z"
   },
   {
    "duration": 15,
    "start_time": "2024-02-19T03:52:07.274Z"
   },
   {
    "duration": 12,
    "start_time": "2024-02-19T03:52:07.291Z"
   },
   {
    "duration": 5,
    "start_time": "2024-02-19T03:52:07.304Z"
   },
   {
    "duration": 17,
    "start_time": "2024-02-19T03:52:07.311Z"
   },
   {
    "duration": 24,
    "start_time": "2024-02-19T03:52:07.330Z"
   },
   {
    "duration": 12,
    "start_time": "2024-02-19T03:52:07.358Z"
   },
   {
    "duration": 27,
    "start_time": "2024-02-19T03:52:07.371Z"
   },
   {
    "duration": 16,
    "start_time": "2024-02-19T03:52:07.399Z"
   },
   {
    "duration": 12,
    "start_time": "2024-02-19T03:52:07.416Z"
   },
   {
    "duration": 15,
    "start_time": "2024-02-19T03:52:07.429Z"
   },
   {
    "duration": 10,
    "start_time": "2024-02-19T03:52:07.445Z"
   },
   {
    "duration": 10,
    "start_time": "2024-02-19T03:52:07.456Z"
   },
   {
    "duration": 9,
    "start_time": "2024-02-19T03:52:07.468Z"
   },
   {
    "duration": 22,
    "start_time": "2024-02-19T03:52:07.479Z"
   },
   {
    "duration": 9,
    "start_time": "2024-02-19T03:52:07.503Z"
   },
   {
    "duration": 9,
    "start_time": "2024-02-19T03:52:07.513Z"
   },
   {
    "duration": 11,
    "start_time": "2024-02-19T03:52:07.523Z"
   },
   {
    "duration": 18,
    "start_time": "2024-02-19T03:52:07.535Z"
   },
   {
    "duration": 6,
    "start_time": "2024-02-19T03:52:07.554Z"
   },
   {
    "duration": 56,
    "start_time": "2024-02-19T03:52:07.561Z"
   },
   {
    "duration": 6,
    "start_time": "2024-02-19T03:52:07.618Z"
   },
   {
    "duration": 11,
    "start_time": "2024-02-19T03:52:07.625Z"
   },
   {
    "duration": 68,
    "start_time": "2024-02-19T03:52:07.637Z"
   },
   {
    "duration": 5,
    "start_time": "2024-02-19T03:52:07.706Z"
   },
   {
    "duration": 6,
    "start_time": "2024-02-19T03:52:07.712Z"
   },
   {
    "duration": 10,
    "start_time": "2024-02-19T03:52:07.720Z"
   },
   {
    "duration": 7,
    "start_time": "2024-02-19T03:52:07.731Z"
   },
   {
    "duration": 22,
    "start_time": "2024-02-19T03:52:07.739Z"
   },
   {
    "duration": 29,
    "start_time": "2024-02-19T03:52:07.762Z"
   },
   {
    "duration": 8,
    "start_time": "2024-02-19T03:52:07.793Z"
   },
   {
    "duration": 64,
    "start_time": "2024-02-19T03:52:07.802Z"
   },
   {
    "duration": 51,
    "start_time": "2024-02-19T03:52:07.868Z"
   },
   {
    "duration": 442,
    "start_time": "2024-02-19T03:52:07.920Z"
   },
   {
    "duration": 82,
    "start_time": "2024-02-19T03:52:08.363Z"
   },
   {
    "duration": 335,
    "start_time": "2024-02-19T03:52:08.447Z"
   },
   {
    "duration": 54,
    "start_time": "2024-02-19T03:52:08.783Z"
   },
   {
    "duration": 54,
    "start_time": "2024-02-19T03:52:08.838Z"
   },
   {
    "duration": 261,
    "start_time": "2024-02-19T03:52:08.893Z"
   },
   {
    "duration": 56,
    "start_time": "2024-02-19T03:52:09.156Z"
   },
   {
    "duration": 52,
    "start_time": "2024-02-19T03:52:09.213Z"
   },
   {
    "duration": 53,
    "start_time": "2024-02-19T03:52:09.267Z"
   },
   {
    "duration": 10,
    "start_time": "2024-02-19T03:52:09.321Z"
   },
   {
    "duration": 100,
    "start_time": "2024-02-19T04:04:39.218Z"
   },
   {
    "duration": 55,
    "start_time": "2024-02-19T04:10:49.654Z"
   },
   {
    "duration": 9795,
    "start_time": "2024-02-19T06:05:45.309Z"
   },
   {
    "duration": 239,
    "start_time": "2024-02-19T06:05:55.105Z"
   },
   {
    "duration": 71,
    "start_time": "2024-02-19T06:05:55.346Z"
   },
   {
    "duration": 12,
    "start_time": "2024-02-19T06:05:55.419Z"
   },
   {
    "duration": 19,
    "start_time": "2024-02-19T06:05:55.433Z"
   },
   {
    "duration": 702,
    "start_time": "2024-02-19T06:05:55.453Z"
   },
   {
    "duration": 55,
    "start_time": "2024-02-19T06:05:56.157Z"
   },
   {
    "duration": 53,
    "start_time": "2024-02-19T06:05:56.214Z"
   },
   {
    "duration": 132,
    "start_time": "2024-02-19T06:05:56.269Z"
   },
   {
    "duration": 10,
    "start_time": "2024-02-19T06:05:56.404Z"
   },
   {
    "duration": 79,
    "start_time": "2024-02-19T06:05:56.415Z"
   },
   {
    "duration": 48,
    "start_time": "2024-02-19T06:05:56.496Z"
   },
   {
    "duration": 10,
    "start_time": "2024-02-19T06:05:56.546Z"
   },
   {
    "duration": 56,
    "start_time": "2024-02-19T06:05:56.558Z"
   },
   {
    "duration": 91,
    "start_time": "2024-02-19T06:05:56.616Z"
   },
   {
    "duration": 11,
    "start_time": "2024-02-19T06:05:56.709Z"
   },
   {
    "duration": 25,
    "start_time": "2024-02-19T06:05:56.722Z"
   },
   {
    "duration": 303,
    "start_time": "2024-02-19T06:05:56.748Z"
   },
   {
    "duration": 57,
    "start_time": "2024-02-19T06:05:57.058Z"
   },
   {
    "duration": 72,
    "start_time": "2024-02-19T06:05:57.116Z"
   },
   {
    "duration": 12,
    "start_time": "2024-02-19T06:05:57.189Z"
   },
   {
    "duration": 7,
    "start_time": "2024-02-19T06:05:57.203Z"
   },
   {
    "duration": 15,
    "start_time": "2024-02-19T06:05:57.211Z"
   },
   {
    "duration": 37,
    "start_time": "2024-02-19T06:05:57.228Z"
   },
   {
    "duration": 70,
    "start_time": "2024-02-19T06:05:57.267Z"
   },
   {
    "duration": 18,
    "start_time": "2024-02-19T06:05:57.339Z"
   },
   {
    "duration": 8,
    "start_time": "2024-02-19T06:05:57.359Z"
   },
   {
    "duration": 6,
    "start_time": "2024-02-19T06:05:57.372Z"
   },
   {
    "duration": 7,
    "start_time": "2024-02-19T06:05:57.381Z"
   },
   {
    "duration": 27,
    "start_time": "2024-02-19T06:05:57.390Z"
   },
   {
    "duration": 14,
    "start_time": "2024-02-19T06:05:57.419Z"
   },
   {
    "duration": 43,
    "start_time": "2024-02-19T06:05:57.435Z"
   },
   {
    "duration": 11,
    "start_time": "2024-02-19T06:05:57.480Z"
   },
   {
    "duration": 19,
    "start_time": "2024-02-19T06:05:57.492Z"
   },
   {
    "duration": 21,
    "start_time": "2024-02-19T06:05:57.513Z"
   },
   {
    "duration": 11,
    "start_time": "2024-02-19T06:05:57.536Z"
   },
   {
    "duration": 19,
    "start_time": "2024-02-19T06:05:57.549Z"
   },
   {
    "duration": 62,
    "start_time": "2024-02-19T06:05:57.570Z"
   },
   {
    "duration": 11,
    "start_time": "2024-02-19T06:05:57.633Z"
   },
   {
    "duration": 17,
    "start_time": "2024-02-19T06:05:57.646Z"
   },
   {
    "duration": 68,
    "start_time": "2024-02-19T06:05:57.664Z"
   },
   {
    "duration": 7,
    "start_time": "2024-02-19T06:05:57.734Z"
   },
   {
    "duration": 28,
    "start_time": "2024-02-19T06:05:57.743Z"
   },
   {
    "duration": 63,
    "start_time": "2024-02-19T06:05:57.773Z"
   },
   {
    "duration": 7,
    "start_time": "2024-02-19T06:05:57.838Z"
   },
   {
    "duration": 23,
    "start_time": "2024-02-19T06:05:57.846Z"
   },
   {
    "duration": 28,
    "start_time": "2024-02-19T06:05:57.871Z"
   },
   {
    "duration": 9,
    "start_time": "2024-02-19T06:05:57.901Z"
   },
   {
    "duration": 28,
    "start_time": "2024-02-19T06:05:57.912Z"
   },
   {
    "duration": 15,
    "start_time": "2024-02-19T06:05:57.942Z"
   },
   {
    "duration": 12,
    "start_time": "2024-02-19T06:05:57.959Z"
   },
   {
    "duration": 111,
    "start_time": "2024-02-19T06:05:57.973Z"
   },
   {
    "duration": 51,
    "start_time": "2024-02-19T06:05:58.086Z"
   },
   {
    "duration": 51,
    "start_time": "2024-02-19T06:05:58.139Z"
   },
   {
    "duration": 546,
    "start_time": "2024-02-19T06:05:58.191Z"
   },
   {
    "duration": 170,
    "start_time": "2024-02-19T06:05:58.739Z"
   },
   {
    "duration": 0,
    "start_time": "2024-02-19T06:05:58.911Z"
   },
   {
    "duration": 1,
    "start_time": "2024-02-19T06:05:58.912Z"
   },
   {
    "duration": 0,
    "start_time": "2024-02-19T06:05:58.914Z"
   },
   {
    "duration": 0,
    "start_time": "2024-02-19T06:05:58.915Z"
   },
   {
    "duration": 0,
    "start_time": "2024-02-19T06:05:58.916Z"
   },
   {
    "duration": 0,
    "start_time": "2024-02-19T06:05:58.917Z"
   },
   {
    "duration": 0,
    "start_time": "2024-02-19T06:05:58.918Z"
   },
   {
    "duration": 0,
    "start_time": "2024-02-19T06:05:58.919Z"
   },
   {
    "duration": 89,
    "start_time": "2024-02-19T06:06:26.905Z"
   },
   {
    "duration": 408,
    "start_time": "2024-02-19T06:06:39.487Z"
   },
   {
    "duration": 53,
    "start_time": "2024-02-19T06:07:01.005Z"
   },
   {
    "duration": 53,
    "start_time": "2024-02-19T06:07:03.840Z"
   },
   {
    "duration": 360,
    "start_time": "2024-02-19T06:07:06.774Z"
   },
   {
    "duration": 326,
    "start_time": "2024-02-19T06:07:37.707Z"
   },
   {
    "duration": 311,
    "start_time": "2024-02-19T06:07:43.937Z"
   },
   {
    "duration": 397,
    "start_time": "2024-02-19T06:08:06.648Z"
   },
   {
    "duration": 327,
    "start_time": "2024-02-19T06:08:12.670Z"
   },
   {
    "duration": 349,
    "start_time": "2024-02-19T06:08:22.088Z"
   },
   {
    "duration": 95,
    "start_time": "2024-02-19T06:08:46.106Z"
   },
   {
    "duration": 56,
    "start_time": "2024-02-19T06:09:02.088Z"
   },
   {
    "duration": 52,
    "start_time": "2024-02-19T06:09:24.924Z"
   },
   {
    "duration": 53,
    "start_time": "2024-02-19T06:09:28.240Z"
   },
   {
    "duration": 14,
    "start_time": "2024-02-19T06:09:30.208Z"
   },
   {
    "duration": 56,
    "start_time": "2024-02-19T06:16:30.424Z"
   },
   {
    "duration": 59,
    "start_time": "2024-02-19T06:17:58.275Z"
   },
   {
    "duration": 69,
    "start_time": "2024-02-19T06:20:59.093Z"
   },
   {
    "duration": 65,
    "start_time": "2024-02-19T06:21:14.841Z"
   },
   {
    "duration": 66,
    "start_time": "2024-02-19T06:21:31.058Z"
   },
   {
    "duration": 55,
    "start_time": "2024-02-19T06:21:37.391Z"
   },
   {
    "duration": 66,
    "start_time": "2024-02-19T06:22:22.989Z"
   },
   {
    "duration": 66,
    "start_time": "2024-02-19T06:22:34.050Z"
   },
   {
    "duration": 75,
    "start_time": "2024-02-19T06:23:42.742Z"
   },
   {
    "duration": 59,
    "start_time": "2024-02-19T06:23:47.641Z"
   },
   {
    "duration": 53,
    "start_time": "2024-02-19T06:32:04.900Z"
   },
   {
    "duration": 67,
    "start_time": "2024-02-19T06:35:08.779Z"
   },
   {
    "duration": 69,
    "start_time": "2024-02-19T06:35:47.109Z"
   },
   {
    "duration": 66,
    "start_time": "2024-02-19T06:36:13.958Z"
   },
   {
    "duration": 55,
    "start_time": "2024-02-19T06:36:41.041Z"
   },
   {
    "duration": 67,
    "start_time": "2024-02-19T06:39:07.860Z"
   },
   {
    "duration": 57,
    "start_time": "2024-02-19T06:40:23.353Z"
   },
   {
    "duration": 54,
    "start_time": "2024-02-19T06:40:43.174Z"
   },
   {
    "duration": 55,
    "start_time": "2024-02-19T06:41:00.431Z"
   },
   {
    "duration": 57,
    "start_time": "2024-02-19T06:42:15.041Z"
   },
   {
    "duration": 9501,
    "start_time": "2024-02-20T03:55:58.066Z"
   },
   {
    "duration": 239,
    "start_time": "2024-02-20T03:56:07.569Z"
   },
   {
    "duration": 74,
    "start_time": "2024-02-20T03:56:07.810Z"
   },
   {
    "duration": 11,
    "start_time": "2024-02-20T03:56:07.886Z"
   },
   {
    "duration": 14,
    "start_time": "2024-02-20T03:56:07.898Z"
   },
   {
    "duration": 646,
    "start_time": "2024-02-20T03:56:07.913Z"
   },
   {
    "duration": 53,
    "start_time": "2024-02-20T03:56:08.561Z"
   },
   {
    "duration": 53,
    "start_time": "2024-02-20T03:56:08.616Z"
   },
   {
    "duration": 125,
    "start_time": "2024-02-20T03:56:08.671Z"
   },
   {
    "duration": 8,
    "start_time": "2024-02-20T03:56:08.799Z"
   },
   {
    "duration": 57,
    "start_time": "2024-02-20T03:56:08.809Z"
   },
   {
    "duration": 50,
    "start_time": "2024-02-20T03:56:08.868Z"
   },
   {
    "duration": 10,
    "start_time": "2024-02-20T03:56:08.919Z"
   },
   {
    "duration": 59,
    "start_time": "2024-02-20T03:56:08.931Z"
   },
   {
    "duration": 94,
    "start_time": "2024-02-20T03:56:08.992Z"
   },
   {
    "duration": 10,
    "start_time": "2024-02-20T03:56:09.088Z"
   },
   {
    "duration": 7,
    "start_time": "2024-02-20T03:56:09.099Z"
   },
   {
    "duration": 254,
    "start_time": "2024-02-20T03:56:09.108Z"
   },
   {
    "duration": 56,
    "start_time": "2024-02-20T03:56:09.363Z"
   },
   {
    "duration": 75,
    "start_time": "2024-02-20T03:56:09.420Z"
   },
   {
    "duration": 9,
    "start_time": "2024-02-20T03:56:09.497Z"
   },
   {
    "duration": 4,
    "start_time": "2024-02-20T03:56:09.508Z"
   },
   {
    "duration": 7,
    "start_time": "2024-02-20T03:56:09.513Z"
   },
   {
    "duration": 7,
    "start_time": "2024-02-20T03:56:09.521Z"
   },
   {
    "duration": 8,
    "start_time": "2024-02-20T03:56:09.529Z"
   },
   {
    "duration": 10,
    "start_time": "2024-02-20T03:56:09.538Z"
   },
   {
    "duration": 5,
    "start_time": "2024-02-20T03:56:09.549Z"
   },
   {
    "duration": 8,
    "start_time": "2024-02-20T03:56:09.558Z"
   },
   {
    "duration": 6,
    "start_time": "2024-02-20T03:56:09.567Z"
   },
   {
    "duration": 10,
    "start_time": "2024-02-20T03:56:09.575Z"
   },
   {
    "duration": 6,
    "start_time": "2024-02-20T03:56:09.586Z"
   },
   {
    "duration": 34,
    "start_time": "2024-02-20T03:56:09.594Z"
   },
   {
    "duration": 10,
    "start_time": "2024-02-20T03:56:09.630Z"
   },
   {
    "duration": 7,
    "start_time": "2024-02-20T03:56:09.642Z"
   },
   {
    "duration": 8,
    "start_time": "2024-02-20T03:56:09.650Z"
   },
   {
    "duration": 10,
    "start_time": "2024-02-20T03:56:09.659Z"
   },
   {
    "duration": 52,
    "start_time": "2024-02-20T03:56:09.670Z"
   },
   {
    "duration": 10,
    "start_time": "2024-02-20T03:56:09.723Z"
   },
   {
    "duration": 9,
    "start_time": "2024-02-20T03:56:09.734Z"
   },
   {
    "duration": 6,
    "start_time": "2024-02-20T03:56:09.744Z"
   },
   {
    "duration": 57,
    "start_time": "2024-02-20T03:56:09.751Z"
   },
   {
    "duration": 6,
    "start_time": "2024-02-20T03:56:09.809Z"
   },
   {
    "duration": 7,
    "start_time": "2024-02-20T03:56:09.816Z"
   },
   {
    "duration": 56,
    "start_time": "2024-02-20T03:56:09.824Z"
   },
   {
    "duration": 7,
    "start_time": "2024-02-20T03:56:09.881Z"
   },
   {
    "duration": 6,
    "start_time": "2024-02-20T03:56:09.889Z"
   },
   {
    "duration": 7,
    "start_time": "2024-02-20T03:56:09.896Z"
   },
   {
    "duration": 5,
    "start_time": "2024-02-20T03:56:09.904Z"
   },
   {
    "duration": 6,
    "start_time": "2024-02-20T03:56:09.911Z"
   },
   {
    "duration": 7,
    "start_time": "2024-02-20T03:56:09.918Z"
   },
   {
    "duration": 6,
    "start_time": "2024-02-20T03:56:09.927Z"
   },
   {
    "duration": 104,
    "start_time": "2024-02-20T03:56:09.934Z"
   },
   {
    "duration": 53,
    "start_time": "2024-02-20T03:56:10.039Z"
   },
   {
    "duration": 53,
    "start_time": "2024-02-20T03:56:10.093Z"
   },
   {
    "duration": 461,
    "start_time": "2024-02-20T03:56:10.147Z"
   },
   {
    "duration": 79,
    "start_time": "2024-02-20T03:56:10.609Z"
   },
   {
    "duration": 348,
    "start_time": "2024-02-20T03:56:10.690Z"
   },
   {
    "duration": 53,
    "start_time": "2024-02-20T03:56:11.040Z"
   },
   {
    "duration": 54,
    "start_time": "2024-02-20T03:56:11.095Z"
   },
   {
    "duration": 355,
    "start_time": "2024-02-20T03:56:11.151Z"
   },
   {
    "duration": 12,
    "start_time": "2024-02-20T03:56:11.508Z"
   },
   {
    "duration": 67,
    "start_time": "2024-02-20T03:56:11.522Z"
   },
   {
    "duration": 4,
    "start_time": "2024-02-20T03:56:11.591Z"
   },
   {
    "duration": 61,
    "start_time": "2024-02-20T03:56:11.597Z"
   },
   {
    "duration": 56,
    "start_time": "2024-02-20T03:56:11.660Z"
   },
   {
    "duration": 12,
    "start_time": "2024-02-20T03:56:11.718Z"
   }
  ],
  "kernelspec": {
   "display_name": "Python 3 (ipykernel)",
   "language": "python",
   "name": "python3"
  },
  "language_info": {
   "codemirror_mode": {
    "name": "ipython",
    "version": 3
   },
   "file_extension": ".py",
   "mimetype": "text/x-python",
   "name": "python",
   "nbconvert_exporter": "python",
   "pygments_lexer": "ipython3",
   "version": "3.11.5"
  },
  "toc": {
   "base_numbering": 1,
   "nav_menu": {},
   "number_sections": false,
   "sideBar": true,
   "skip_h1_title": true,
   "title_cell": "Table of Contents",
   "title_sidebar": "Contents",
   "toc_cell": false,
   "toc_position": {},
   "toc_section_display": true,
   "toc_window_display": false
  }
 },
 "nbformat": 4,
 "nbformat_minor": 2
}
